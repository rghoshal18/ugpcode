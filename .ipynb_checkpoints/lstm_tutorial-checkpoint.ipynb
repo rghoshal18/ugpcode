{
 "cells": [
  {
   "cell_type": "code",
   "execution_count": 1,
   "metadata": {},
   "outputs": [],
   "source": [
    "import tensorflow as tf\n",
    "from tensorflow.keras.models import Sequential\n",
    "from tensorflow.keras.layers import Dense, Dropout, LSTM"
   ]
  },
  {
   "cell_type": "code",
   "execution_count": 5,
   "metadata": {},
   "outputs": [],
   "source": [
    "def fn_get_model_convLSTM_2():\n",
    "    \n",
    "    model = Sequential()\n",
    "    \n",
    "    model.add(ConvLSTM2D(filters=32, kernel_size=(7, 7),\n",
    "                         input_shape=(None, 101, 101, 1),\n",
    "                         return_sequences=True,\n",
    "                         go_backwards=True,\n",
    "                         activation='tanh', recurrent_activation='hard_sigmoid',\n",
    "                         kernel_initializer='glorot_uniform', unit_forget_bias=True, \n",
    "                         dropout=0.4, recurrent_dropout=0.2\n",
    "                         ))\n",
    "    model.add(BatchNormalization())\n",
    "    \n",
    "    model.add(ConvLSTM2D(filters=16, kernel_size=(7, 7),\n",
    "                         return_sequences=True,\n",
    "                         go_backwards=True,\n",
    "                         activation='tanh', recurrent_activation='hard_sigmoid',\n",
    "                         kernel_initializer='glorot_uniform', unit_forget_bias=True, \n",
    "                         dropout=0.4, recurrent_dropout=0.2\n",
    "                         ))\n",
    "    model.add(BatchNormalization())\n",
    "    \n",
    "    model.add(ConvLSTM2D(filters=8, kernel_size=(7, 7),\n",
    "                         return_sequences=False,\n",
    "                         go_backwards=True,\n",
    "                         activation='tanh', recurrent_activation='hard_sigmoid',\n",
    "                         kernel_initializer='glorot_uniform', unit_forget_bias=True, \n",
    "                         dropout=0.3, recurrent_dropout=0.2\n",
    "                         ))\n",
    "    model.add(BatchNormalization())\n",
    "    \n",
    "    model.add(Conv2D(filters=1, kernel_size=(1, 1),\n",
    "                   activation='relu',\n",
    "                   data_format='channels_last')) \n",
    "    \n",
    "    model.add(MaxPooling2D(pool_size=(4, 4), padding='same'))\n",
    "    model.add(Flatten())\n",
    "    model.add(BatchNormalization())\n",
    "    model.add(Dropout(0.25))\n",
    "    \n",
    "    model.add(Dense(512, activation='relu'))\n",
    "    model.add(BatchNormalization())\n",
    "    model.add(Dropout(0.4))\n",
    "    \n",
    "    model.add(Dense(512, activation='relu'))\n",
    "    model.add(BatchNormalization())\n",
    "    model.add(Dropout(0.4))\n",
    "    \n",
    "    model.add(Dense(128, activation='relu'))\n",
    "    model.add(BatchNormalization())\n",
    "    model.add(Dropout(0.4))\n",
    "    \n",
    "    model.add(Dense(1, activation='linear'))\n",
    "    opt = tf.keras.optimizers.Adam(lr=0.001, decay=1e-6)\n",
    "\n",
    "    model.compile(loss='sparse_categorical_crossentropy',optimizer=opt,metrics=['accuracy'],)\n",
    "    print(model.summary())\n",
    "\n",
    "    return model"
   ]
  },
  {
   "cell_type": "code",
   "execution_count": 16,
   "metadata": {},
   "outputs": [
    {
     "name": "stdout",
     "output_type": "stream",
     "text": [
      "(60000, 28, 28)\n",
      "(28, 28)\n"
     ]
    }
   ],
   "source": [
    "mnist = tf.keras.datasets.mnist  # mnist is a dataset of 28x28 images of handwritten digits and their labels\n",
    "(x_train, y_train),(x_test, y_test) = mnist.load_data()  # unpacks images to x_train/x_test and labels to y_train/y_test\n",
    "\n",
    "x_train = x_train/255.0\n",
    "x_test = x_test/255.0\n",
    "\n",
    "print(x_train.shape)\n",
    "print(x_train[0].shape)"
   ]
  },
  {
   "cell_type": "code",
   "execution_count": null,
   "metadata": {},
   "outputs": [],
   "source": []
  },
  {
   "cell_type": "code",
   "execution_count": 17,
   "metadata": {},
   "outputs": [],
   "source": []
  },
  {
   "cell_type": "code",
   "execution_count": 18,
   "metadata": {},
   "outputs": [
    {
     "name": "stdout",
     "output_type": "stream",
     "text": [
      "Epoch 1/3\n",
      "1875/1875 [==============================] - 136s 73ms/step - loss: 0.3938 - accuracy: 0.8792 - val_loss: 0.1088 - val_accuracy: 0.9680\n",
      "Epoch 2/3\n",
      "1875/1875 [==============================] - 135s 72ms/step - loss: 0.1193 - accuracy: 0.9682 - val_loss: 0.0740 - val_accuracy: 0.9777\n",
      "Epoch 3/3\n",
      "1875/1875 [==============================] - 137s 73ms/step - loss: 0.0842 - accuracy: 0.9776 - val_loss: 0.0619 - val_accuracy: 0.9819\n"
     ]
    },
    {
     "data": {
      "text/plain": [
       "<tensorflow.python.keras.callbacks.History at 0x7fd93f62fa90>"
      ]
     },
     "execution_count": 18,
     "metadata": {},
     "output_type": "execute_result"
    }
   ],
   "source": [
    "model.fit(x_train,y_train,epochs=3, validation_data=(x_test, y_test))"
   ]
  }
 ],
 "metadata": {
  "kernelspec": {
   "display_name": "Python 3",
   "language": "python",
   "name": "python3"
  },
  "language_info": {
   "codemirror_mode": {
    "name": "ipython",
    "version": 3
   },
   "file_extension": ".py",
   "mimetype": "text/x-python",
   "name": "python",
   "nbconvert_exporter": "python",
   "pygments_lexer": "ipython3",
   "version": "3.7.7"
  }
 },
 "nbformat": 4,
 "nbformat_minor": 4
}
