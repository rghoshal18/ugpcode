{
 "cells": [
  {
   "cell_type": "code",
   "execution_count": 4,
   "metadata": {},
   "outputs": [],
   "source": [
    "import numpy as np\n",
    "import pandas as pd\n",
    "import matplotlib.pyplot as plt\n",
    "from netCDF4 import Dataset\n",
    "from mpl_toolkits.mplot3d import Axes3D\n",
    "from gdflib import GdfEntries"
   ]
  },
  {
   "cell_type": "code",
   "execution_count": 5,
   "metadata": {},
   "outputs": [
    {
     "data": {
      "text/plain": [
       "<class 'netCDF4._netCDF4.Dataset'>\n",
       "root group (NETCDF4 data model, file format HDF5):\n",
       "    product_name: CS_OFFL_SIR_LRMI2__20200425T234518_20200426T001122_D001\n",
       "    processing_stage: OFFL\n",
       "    reference_document: CS-RS-ACS-ESL-5265 1.6\n",
       "    doi: 10.5270/CR2-k1o4pyh\n",
       "    acquisition_station: Kiruna              \n",
       "    mission: Cryosat\n",
       "    processing_centre: PDS\n",
       "    creation_time: UTC=2020-05-25T22:50:34\n",
       "    sensing_start: 25-APR-2020 23:45:17.980979\n",
       "    sensing_stop: 26-APR-2020 00:11:21.452517\n",
       "    software_version: IPF2LRM/5.3\n",
       "    phase: 2\n",
       "    cycle_number: 13\n",
       "    rel_orbit_number: 1439\n",
       "    abs_orbit_number: 53266\n",
       "    state_vector_time: UTC=2020-04-25T23:58:19.716748\n",
       "    delta_ut1: 0.0\n",
       "    x_position: 3361415.25\n",
       "    y_position: 5900680.5\n",
       "    z_position: -2097038.625\n",
       "    x_velocity: -417.3896484375\n",
       "    y_velocity: -2292.590576171875\n",
       "    z_velocity: -7150.0771484375\n",
       "    vector_source: doris_precise\n",
       "    leap_utc:                            \n",
       "    leap_sign: 0\n",
       "    leap_err: 0\n",
       "    product_err: 0\n",
       "    first_record_time: TAI=2020-04-25T23:45:54.980979\n",
       "    last_record_time: TAI=2020-04-26T00:11:58.452517\n",
       "    abs_orbit_start: 53266\n",
       "    rel_time_acs_node_start: 2473.125\n",
       "    abs_orbit_stop: 53266\n",
       "    rel_time_acs_node_stop: 4036.5966796875\n",
       "    equator_cross_time: UTC=2020-04-25T23:04:04.949307\n",
       "    equator_cross_long: -105452237\n",
       "    ascending_flag: D\n",
       "    first_record_lat: 30195612\n",
       "    first_record_lon: 65395183\n",
       "    last_record_lat: -64357679\n",
       "    last_record_lon: 53488574\n",
       "    instr_id: A\n",
       "    open_ocean_percent: 9533\n",
       "    close_sea_percent: 0\n",
       "    continent_ice_percent: 0\n",
       "    land_percent: 467\n",
       "    lrm_mode_percent: 10000\n",
       "    sar_mode_percent: 0\n",
       "    sarin_mode_percent: 0\n",
       "    l2_prod_status: 0\n",
       "    l2_proc_flag: 0\n",
       "    l2_processing_quality: 10000\n",
       "    l2_proc_thresh: 500\n",
       "    l1b_proc_flag: 0\n",
       "    l1b_proc_thresh: 500\n",
       "    l1b_processing_quality: 10000\n",
       "    l1b_prod_status: 0\n",
       "    sir_configuration: RX_1   \n",
       "    sir_op_mode: LRM       \n",
       "    xref_cal1: CS_OFFL_SIR1LRC11B_20200426T011830_20200426T011833_D001.DBL\n",
       "    xref_cal1_sarin: CS_OFFL_SIR_SICC1B_20200426T030454_20200426T030606_D001.DBL\n",
       "    xref_cal2: CS_OFFL_SIR1SAC21B_20200421T131341_20200421T131602_D001.DBL\n",
       "    xref_constants: Geophysical_Constants_5.0.xml\n",
       "    xref_dip_map: CS_OPER_AUX_DIPMAP_00000000T000000_99999999T999999_0002.DBL\n",
       "    xref_earth_tide: CS_OPER_AUX_CARTWR_00000000T000000_99999999T999999_0002.DBL\n",
       "    xref_geoid: CS_OPER_AUX_GEOID__00000000T000000_99999999T999999_0002.DBL\n",
       "    xref_gim: CS_OPER_AUX_IONGIM_20200425T000000_20200425T235959_0001.DBL,CS_OPER_AUX_IONGIM_20200426T000000_20200426T235959_0001.DBL\n",
       "    xref_iono_cor: CS_OPER_AUX_MICOEF_00000000T000000_99999999T999999_0002.DBL\n",
       "    xref_mean_pressure: CS_OPER_AUX_SEAMPS_20200425T180000_20200425T180000_0001.DBL,CS_OPER_AUX_SEAMPS_20200426T000000_20200426T000000_0001.DBL,CS_OPER_AUX_SEAMPS_20200426T060000_20200426T060000_0001.DBL\n",
       "    xref_meteo: CS_OPER_AUX_ALTGRD_20110504T100000_20301231T235959_0003.DBL\n",
       "    xref_mog2d: CS_OPER_AUX_MOG_2D_20200425T180000_20200425T180000_0001.DBL,CS_OPER_AUX_MOG_2D_20200426T000000_20200426T000000_0001.DBL,CS_OPER_AUX_MOG_2D_20200426T060000_20200426T060000_0001.DBL\n",
       "    xref_mss: CS_OPER_AUX_MSSURF_00000000T000000_99999999T999999_0007.DBL\n",
       "    xref_ocean_tide: CS_OPER_AUX_OCTIDE_00000000T000000_99999999T999999_0003.DBL\n",
       "    xref_odle: CS_OPER_AUX_ODLE___00000000T000000_99999999T999999_0002.DBL\n",
       "    xref_orbit: CS_OPER_AUX_ORBDOR_20200425T215523_20200427T002323_F001.EEF,CS_OPER_MPL_ORBPRE_20200425T001000_20200525T001000_0001.EEF\n",
       "    xref_orbit_scenario: CS_OPER_MPL_ORBREF_20190711T045745_20200713T104253_0001.EEF\n",
       "    xref_pconf: CS_OPER_PCONF_IPF1_20161001T000000_99999999T000000_0001.XML,CS_OPER_PCONF_IPF2_20150427T000000_99999999T999999_0011.XML\n",
       "    xref_pole_location: CS_OPER_AUX_POLLOC_19870101T000000_20210521T000000_0004.DBL\n",
       "    xref_s1_tide_amplitude: CS_OPER_AUX_S1AMPL_00000000T000000_99999999T999999_0001.DBL\n",
       "    xref_s1_tide_phase: CS_OPER_AUX_S1PHAS_00000000T000000_99999999T999999_0001.DBL\n",
       "    xref_s1s2_pressure_00h: CS_OPER_AUX_PRSS00_00000000T000000_99999999T999999_0001.DBL\n",
       "    xref_s1s2_pressure_06h: CS_OPER_AUX_PRSS06_00000000T000000_99999999T999999_0001.DBL\n",
       "    xref_s1s2_pressure_12h: CS_OPER_AUX_PRSS12_00000000T000000_99999999T999999_0001.DBL\n",
       "    xref_s1s2_pressure_18h: CS_OPER_AUX_PRSS18_00000000T000000_99999999T999999_0001.DBL\n",
       "    xref_s2_tide_amplitude: CS_OPER_AUX_S2AMPL_00000000T000000_99999999T999999_0001.DBL\n",
       "    xref_s2_tide_phase: CS_OPER_AUX_S2PHAS_00000000T000000_99999999T999999_0001.DBL\n",
       "    xref_sai: CS_OPER_AUX_SUNACT_19910101T000000_20210501T000000_0001.DBL\n",
       "    xref_siral_characterisation: CS_OPER_AUX_IPFDBA_20150222T000000_99999999T999999_0001.EEF\n",
       "    xref_siral_l0: CS_OPER_SIR1LRM_0__20200425T234518_20200426T001122_0001.DBL\n",
       "    xref_siral_l1b: CS_OFFL_SIR_LRM_1B_20200425T234518_20200426T001122_D001.DBL\n",
       "    xref_ssb: CS_OPER_AUX_SSBIAS_00000000T000000_99999999T999999_0003.DBL\n",
       "    xref_star_tracker_attref: CS_OFFL_STR_ATTREF_20200425T215523_20200427T002321_D001.EEF\n",
       "    xref_surf_pressure: CS_OPER_AUX_SURFPS_20200425T180000_20200425T180000_0001.DBL,CS_OPER_AUX_SURFPS_20200426T000000_20200426T000000_0001.DBL,CS_OPER_AUX_SURFPS_20200426T060000_20200426T060000_0001.DBL\n",
       "    xref_surf_type: CS_OPER_AUX_LS_MAP_00000000T000000_99999999T999999_0002.DBL\n",
       "    xref_tidal_load: CS_OPER_AUX_TDLOAD_00000000T000000_99999999T999999_0003.DBL\n",
       "    xref_u_wind: CS_OPER_AUX_U_WIND_20200425T180000_20200425T180000_0001.DBL,CS_OPER_AUX_U_WIND_20200426T000000_20200426T000000_0001.DBL,CS_OPER_AUX_U_WIND_20200426T060000_20200426T060000_0001.DBL\n",
       "    xref_uso: CS_OPER_AUX_DORUSO_20100411T040029_20200525T063942_0001.DBL\n",
       "    xref_v_wind: CS_OPER_AUX_V_WIND_20200425T180000_20200425T180000_0001.DBL,CS_OPER_AUX_V_WIND_20200426T000000_20200426T000000_0001.DBL,CS_OPER_AUX_V_WIND_20200426T060000_20200426T060000_0001.DBL\n",
       "    xref_wet_trop: CS_OPER_AUX_WETTRP_20200425T180000_20200425T180000_0001.DBL,CS_OPER_AUX_WETTRP_20200426T000000_20200426T000000_0001.DBL,CS_OPER_AUX_WETTRP_20200426T060000_20200426T060000_0001.DBL\n",
       "    xref_wind_model: CS_OPER_AUX_WNDCHE_00000000T000000_99999999T999999_0001.DBL\n",
       "    dimensions(sizes): space_3d(3), time_20_ku(33000), time_cor_01(1650)\n",
       "    variables(dimensions): int32 \u001b[4macross_track_angle_20_ku\u001b[0m(time_20_k), int32 \u001b[4macross_track_angle_cor_20_ku\u001b[0m(time_20_k), int32 \u001b[4malt_20_ku\u001b[0m(time_20_k), int32 \u001b[4mbeam_dir_vec_20_ku\u001b[0m(time_20_k,space_3d), int32 \u001b[4mcoherence_20_ku\u001b[0m(time_20_k), int32 \u001b[4mdem_height_20_ku\u001b[0m(time_20_k), int8 \u001b[4mdem_identifier_20_ku\u001b[0m(time_20_k), int32 \u001b[4mdop_angle_start_20_ku\u001b[0m(time_20_k), int32 \u001b[4mdop_angle_stop_20_ku\u001b[0m(time_20_k), int32 \u001b[4mdop_cor_20_ku\u001b[0m(time_20_k), int16 \u001b[4mecho_numval_20_ku\u001b[0m(time_20_k), int32 \u001b[4mflag_cor_err_20_ku\u001b[0m(time_20_k), int32 \u001b[4mflag_cor_status_20_ku\u001b[0m(time_20_k), int32 \u001b[4mflag_disc_stat_20_ku\u001b[0m(time_20_k), int32 \u001b[4mflag_freeboard_20_ku\u001b[0m(time_20_k), int32 \u001b[4mflag_height_20_ku\u001b[0m(time_20_k), int8 \u001b[4mflag_instr_conf_rx_bwdt_20_ku\u001b[0m(time_20_k), int8 \u001b[4mflag_instr_conf_rx_flags_20_ku\u001b[0m(time_20_k), int8 \u001b[4mflag_instr_conf_rx_in_use_20_ku\u001b[0m(time_20_k), int8 \u001b[4mflag_instr_conf_rx_str_in_use_20_ku\u001b[0m(time_20_k), int8 \u001b[4mflag_instr_conf_rx_trk_mode_20_ku\u001b[0m(time_20_k), int8 \u001b[4mflag_instr_mode_att_ctrl_20_ku\u001b[0m(time_20_k), int8 \u001b[4mflag_instr_mode_flags_20_ku\u001b[0m(time_20_k), int8 \u001b[4mflag_instr_mode_op_20_ku\u001b[0m(time_20_k), int32 \u001b[4mflag_mcd_20_ku\u001b[0m(time_20_k), int32 \u001b[4mflag_quality_20_ku\u001b[0m(time_20_k), int32 \u001b[4mflag_retracker_20_ku\u001b[0m(time_20_k), int8 \u001b[4mflag_sarin_ambiguity_warning_20_ku\u001b[0m(time_20_k), int8 \u001b[4mflag_ssha_interp_20_ku\u001b[0m(time_20_k), int16 \u001b[4mflag_surf_type_class_20_ku\u001b[0m(time_20_k), int32 \u001b[4mfreeboard_20_ku\u001b[0m(time_20_k), int32 \u001b[4mgeoid_20_ku\u001b[0m(time_20_k), int32 \u001b[4mheight_1_20_ku\u001b[0m(time_20_k), int32 \u001b[4mheight_2_20_ku\u001b[0m(time_20_k), int32 \u001b[4mheight_3_20_ku\u001b[0m(time_20_k), int32 \u001b[4mheight_sea_ice_floe_20_ku\u001b[0m(time_20_k), int32 \u001b[4mheight_sea_ice_lead_20_ku\u001b[0m(time_20_k), int32 \u001b[4mhf_fluct_total_cor_01\u001b[0m(time_cor_01), int32 \u001b[4mind_first_meas_20hz_01\u001b[0m(time_cor_01), int16 \u001b[4mind_meas_1hz_20_ku\u001b[0m(time_20_k), int32 \u001b[4minstr_cor_gain_rx_20_ku\u001b[0m(time_20_k), int32 \u001b[4minstr_cor_gain_tx_rx_20_ku\u001b[0m(time_20_k), int32 \u001b[4minstr_cor_range_rx_20_ku\u001b[0m(time_20_k), int32 \u001b[4minstr_cor_range_tx_rx_20_ku\u001b[0m(time_20_k), int32 \u001b[4minstr_ext_ph_cor_20_ku\u001b[0m(time_20_k), int32 \u001b[4minstr_int_ph_cor_20_ku\u001b[0m(time_20_k), int32 \u001b[4minter_base_vec_20_ku\u001b[0m(time_20_k,space_3d), int32 \u001b[4minv_bar_cor_01\u001b[0m(time_cor_01), int32 \u001b[4miono_cor_01\u001b[0m(time_cor_01), int32 \u001b[4miono_cor_gim_01\u001b[0m(time_cor_01), int32 \u001b[4mlat_20_ku\u001b[0m(time_20_k), int32 \u001b[4mlat_poca_20_ku\u001b[0m(time_20_k), int32 \u001b[4mload_tide_01\u001b[0m(time_cor_01), int32 \u001b[4mlon_20_ku\u001b[0m(time_20_k), int32 \u001b[4mlon_poca_20_ku\u001b[0m(time_20_k), int32 \u001b[4mlook_angle_start_20_ku\u001b[0m(time_20_k), int32 \u001b[4mlook_angle_stop_20_ku\u001b[0m(time_20_k), int32 \u001b[4mmean_sea_surf_sea_ice_20_ku\u001b[0m(time_20_k), int32 \u001b[4mmod_dry_tropo_cor_01\u001b[0m(time_cor_01), int32 \u001b[4mmod_wet_tropo_cor_01\u001b[0m(time_cor_01), int32 \u001b[4mnoise_power_20_ku\u001b[0m(time_20_k), int32 \u001b[4mocean_tide_01\u001b[0m(time_cor_01), int32 \u001b[4mocean_tide_eq_01\u001b[0m(time_cor_01), int32 \u001b[4modle_20_ku\u001b[0m(time_20_k), int32 \u001b[4moff_nadir_pitch_angle_str_20_ku\u001b[0m(time_20_k), int32 \u001b[4moff_nadir_roll_angle_str_20_ku\u001b[0m(time_20_k), int32 \u001b[4moff_nadir_yaw_angle_str_20_ku\u001b[0m(time_20_k), int32 \u001b[4moffset_attitude_20_ku\u001b[0m(time_20_k), int32 \u001b[4moffset_azimuth_20_ku\u001b[0m(time_20_k), int32 \u001b[4morb_alt_rate_20_ku\u001b[0m(time_20_k), int32 \u001b[4mpeakiness_20_ku\u001b[0m(time_20_k), int32 \u001b[4mph_slope_cor_20_ku\u001b[0m(time_20_k), int32 \u001b[4mpole_tide_01\u001b[0m(time_cor_01), int32 \u001b[4mrange_1_20_ku\u001b[0m(time_20_k), int32 \u001b[4mrange_2_20_ku\u001b[0m(time_20_k), int32 \u001b[4mrange_3_20_ku\u001b[0m(time_20_k), int32 \u001b[4mrec_count_20_ku\u001b[0m(time_20_k), int32 \u001b[4mretracker_1_cor_20_ku\u001b[0m(time_20_k), int32 \u001b[4mretracker_1_quality_20_ku\u001b[0m(time_20_k), int32 \u001b[4mretracker_2_cor_20_ku\u001b[0m(time_20_k), int32 \u001b[4mretracker_2_quality_20_ku\u001b[0m(time_20_k), int32 \u001b[4mretracker_3_cor_20_ku\u001b[0m(time_20_k), int32 \u001b[4mretracker_3_quality_20_ku\u001b[0m(time_20_k), int32 \u001b[4mretracker_output_10_20_ku\u001b[0m(time_20_k), int32 \u001b[4mretracker_output_11_20_ku\u001b[0m(time_20_k), int32 \u001b[4mretracker_output_12_20_ku\u001b[0m(time_20_k), int32 \u001b[4mretracker_output_13_20_ku\u001b[0m(time_20_k), int32 \u001b[4mretracker_output_14_20_ku\u001b[0m(time_20_k), int32 \u001b[4mretracker_output_15_20_ku\u001b[0m(time_20_k), int32 \u001b[4mretracker_output_16_20_ku\u001b[0m(time_20_k), int32 \u001b[4mretracker_output_17_20_ku\u001b[0m(time_20_k), int32 \u001b[4mretracker_output_18_20_ku\u001b[0m(time_20_k), int32 \u001b[4mretracker_output_19_20_ku\u001b[0m(time_20_k), int32 \u001b[4mretracker_output_20_20_ku\u001b[0m(time_20_k), int32 \u001b[4mretracker_output_21_20_ku\u001b[0m(time_20_k), int32 \u001b[4mretracker_output_22_20_ku\u001b[0m(time_20_k), int32 \u001b[4mretracker_output_23_20_ku\u001b[0m(time_20_k), int32 \u001b[4mretracker_output_3_20_ku\u001b[0m(time_20_k), int32 \u001b[4mretracker_output_4_20_ku\u001b[0m(time_20_k), int32 \u001b[4mretracker_output_5_20_ku\u001b[0m(time_20_k), int32 \u001b[4mretracker_output_6_20_ku\u001b[0m(time_20_k), int32 \u001b[4mretracker_output_7_20_ku\u001b[0m(time_20_k), int32 \u001b[4mretracker_output_8_20_ku\u001b[0m(time_20_k), int32 \u001b[4mretracker_output_9_20_ku\u001b[0m(time_20_k), int32 \u001b[4msarin_output_10_20_ku\u001b[0m(time_20_k), int32 \u001b[4msarin_output_1_20_ku\u001b[0m(time_20_k), int32 \u001b[4msarin_output_2_20_ku\u001b[0m(time_20_k), int32 \u001b[4msarin_output_3_20_ku\u001b[0m(time_20_k), int32 \u001b[4msarin_output_4_20_ku\u001b[0m(time_20_k), int32 \u001b[4msarin_output_5_20_ku\u001b[0m(time_20_k), int32 \u001b[4msarin_output_6_20_ku\u001b[0m(time_20_k), int32 \u001b[4msarin_output_7_20_ku\u001b[0m(time_20_k), int32 \u001b[4msarin_output_8_20_ku\u001b[0m(time_20_k), int32 \u001b[4msarin_output_9_20_ku\u001b[0m(time_20_k), int32 \u001b[4msat_vel_vec_20_ku\u001b[0m(time_20_k,space_3d), int32 \u001b[4msea_ice_concentration_20_ku\u001b[0m(time_20_k), int16 \u001b[4msea_state_bias_20_ku\u001b[0m(time_20_k), int16 \u001b[4mseq_count_20_ku\u001b[0m(time_20_k), int32 \u001b[4msig0_1_20_ku\u001b[0m(time_20_k), int32 \u001b[4msig0_2_20_ku\u001b[0m(time_20_k), int32 \u001b[4msig0_3_20_ku\u001b[0m(time_20_k), int16 \u001b[4mslope_dop_cor_20_ku\u001b[0m(time_20_k), int32 \u001b[4msnow_density_20_ku\u001b[0m(time_20_k), int32 \u001b[4msnow_depth_20_ku\u001b[0m(time_20_k), int32 \u001b[4msolid_earth_tide_01\u001b[0m(time_cor_01), int16 \u001b[4mspace_3d\u001b[0m(space_3d), int32 \u001b[4mssha_20_ku\u001b[0m(time_20_k), int32 \u001b[4mssha_interp_20_ku\u001b[0m(time_20_k), int32 \u001b[4mssha_interp_numval_back_20_ku\u001b[0m(time_20_k), int32 \u001b[4mssha_interp_numval_fwd_20_ku\u001b[0m(time_20_k), int32 \u001b[4mssha_interp_rms_20_ku\u001b[0m(time_20_k), int32 \u001b[4mssha_interp_time_back_20_ku\u001b[0m(time_20_k), int32 \u001b[4mssha_interp_time_fwd_20_ku\u001b[0m(time_20_k), int16 \u001b[4mstack_centre_20_ku\u001b[0m(time_20_k), int16 \u001b[4mstack_centre_angle_20_ku\u001b[0m(time_20_k), int16 \u001b[4mstack_centre_look_angle_20_ku\u001b[0m(time_20_k), int16 \u001b[4mstack_gaussian_fitting_residuals_20_ku\u001b[0m(time_20_k), int16 \u001b[4mstack_kurtosis_20_ku\u001b[0m(time_20_k), int16 \u001b[4mstack_number_after_weighting_20_ku\u001b[0m(time_20_k), int16 \u001b[4mstack_number_before_weighting_20_ku\u001b[0m(time_20_k), int16 \u001b[4mstack_peakiness_20_ku\u001b[0m(time_20_k), int16 \u001b[4mstack_scaled_amplitude_20_ku\u001b[0m(time_20_k), int16 \u001b[4mstack_skewness_20_ku\u001b[0m(time_20_k), int16 \u001b[4mstack_std_20_ku\u001b[0m(time_20_k), int16 \u001b[4mstack_std_angle_20_ku\u001b[0m(time_20_k), int8 \u001b[4msurf_type_20_ku\u001b[0m(time_20_k), int16 \u001b[4mswh_ocean_20_ku\u001b[0m(time_20_k), float64 \u001b[4mtime_20_ku\u001b[0m(time_20_k), float64 \u001b[4mtime_cor_01\u001b[0m(time_cor_01), int32 \u001b[4muso_cor_20_ku\u001b[0m(time_20_k), int32 \u001b[4muso_cor_applied_20_ku\u001b[0m(time_20_k), int16 \u001b[4mwind_speed_alt_20_ku\u001b[0m(time_20_k)\n",
       "    groups: "
      ]
     },
     "execution_count": 5,
     "metadata": {},
     "output_type": "execute_result"
    }
   ],
   "source": [
    "data = Dataset(\"CS_OFFL_SIR_LRMI2__20200425T234518_20200426T001122_D001.nc\", \"r\", format=\"NETCDF4\")\n",
    "data"
   ]
  },
  {
   "cell_type": "code",
   "execution_count": 6,
   "metadata": {},
   "outputs": [
    {
     "name": "stdout",
     "output_type": "stream",
     "text": [
      "across_track_angle_20_ku\n",
      "across_track_angle_cor_20_ku\n",
      "alt_20_ku\n",
      "beam_dir_vec_20_ku\n",
      "coherence_20_ku\n",
      "dem_height_20_ku\n",
      "dem_identifier_20_ku\n",
      "dop_angle_start_20_ku\n",
      "dop_angle_stop_20_ku\n",
      "dop_cor_20_ku\n",
      "echo_numval_20_ku\n",
      "flag_cor_err_20_ku\n",
      "flag_cor_status_20_ku\n",
      "flag_disc_stat_20_ku\n",
      "flag_freeboard_20_ku\n",
      "flag_height_20_ku\n",
      "flag_instr_conf_rx_bwdt_20_ku\n",
      "flag_instr_conf_rx_flags_20_ku\n",
      "flag_instr_conf_rx_in_use_20_ku\n",
      "flag_instr_conf_rx_str_in_use_20_ku\n",
      "flag_instr_conf_rx_trk_mode_20_ku\n",
      "flag_instr_mode_att_ctrl_20_ku\n",
      "flag_instr_mode_flags_20_ku\n",
      "flag_instr_mode_op_20_ku\n",
      "flag_mcd_20_ku\n",
      "flag_quality_20_ku\n",
      "flag_retracker_20_ku\n",
      "flag_sarin_ambiguity_warning_20_ku\n",
      "flag_ssha_interp_20_ku\n",
      "flag_surf_type_class_20_ku\n",
      "freeboard_20_ku\n",
      "geoid_20_ku\n",
      "height_1_20_ku\n",
      "height_2_20_ku\n",
      "height_3_20_ku\n",
      "height_sea_ice_floe_20_ku\n",
      "height_sea_ice_lead_20_ku\n",
      "hf_fluct_total_cor_01\n",
      "ind_first_meas_20hz_01\n",
      "ind_meas_1hz_20_ku\n",
      "instr_cor_gain_rx_20_ku\n",
      "instr_cor_gain_tx_rx_20_ku\n",
      "instr_cor_range_rx_20_ku\n",
      "instr_cor_range_tx_rx_20_ku\n",
      "instr_ext_ph_cor_20_ku\n",
      "instr_int_ph_cor_20_ku\n",
      "inter_base_vec_20_ku\n",
      "inv_bar_cor_01\n",
      "iono_cor_01\n",
      "iono_cor_gim_01\n",
      "lat_20_ku\n",
      "lat_poca_20_ku\n",
      "load_tide_01\n",
      "lon_20_ku\n",
      "lon_poca_20_ku\n",
      "look_angle_start_20_ku\n",
      "look_angle_stop_20_ku\n",
      "mean_sea_surf_sea_ice_20_ku\n",
      "mod_dry_tropo_cor_01\n",
      "mod_wet_tropo_cor_01\n",
      "noise_power_20_ku\n",
      "ocean_tide_01\n",
      "ocean_tide_eq_01\n",
      "odle_20_ku\n",
      "off_nadir_pitch_angle_str_20_ku\n",
      "off_nadir_roll_angle_str_20_ku\n",
      "off_nadir_yaw_angle_str_20_ku\n",
      "offset_attitude_20_ku\n",
      "offset_azimuth_20_ku\n",
      "orb_alt_rate_20_ku\n",
      "peakiness_20_ku\n",
      "ph_slope_cor_20_ku\n",
      "pole_tide_01\n",
      "range_1_20_ku\n",
      "range_2_20_ku\n",
      "range_3_20_ku\n",
      "rec_count_20_ku\n",
      "retracker_1_cor_20_ku\n",
      "retracker_1_quality_20_ku\n",
      "retracker_2_cor_20_ku\n",
      "retracker_2_quality_20_ku\n",
      "retracker_3_cor_20_ku\n",
      "retracker_3_quality_20_ku\n",
      "retracker_output_10_20_ku\n",
      "retracker_output_11_20_ku\n",
      "retracker_output_12_20_ku\n",
      "retracker_output_13_20_ku\n",
      "retracker_output_14_20_ku\n",
      "retracker_output_15_20_ku\n",
      "retracker_output_16_20_ku\n",
      "retracker_output_17_20_ku\n",
      "retracker_output_18_20_ku\n",
      "retracker_output_19_20_ku\n",
      "retracker_output_20_20_ku\n",
      "retracker_output_21_20_ku\n",
      "retracker_output_22_20_ku\n",
      "retracker_output_23_20_ku\n",
      "retracker_output_3_20_ku\n",
      "retracker_output_4_20_ku\n",
      "retracker_output_5_20_ku\n",
      "retracker_output_6_20_ku\n",
      "retracker_output_7_20_ku\n",
      "retracker_output_8_20_ku\n",
      "retracker_output_9_20_ku\n",
      "sarin_output_10_20_ku\n",
      "sarin_output_1_20_ku\n",
      "sarin_output_2_20_ku\n",
      "sarin_output_3_20_ku\n",
      "sarin_output_4_20_ku\n",
      "sarin_output_5_20_ku\n",
      "sarin_output_6_20_ku\n",
      "sarin_output_7_20_ku\n",
      "sarin_output_8_20_ku\n",
      "sarin_output_9_20_ku\n",
      "sat_vel_vec_20_ku\n",
      "sea_ice_concentration_20_ku\n",
      "sea_state_bias_20_ku\n",
      "seq_count_20_ku\n",
      "sig0_1_20_ku\n",
      "sig0_2_20_ku\n",
      "sig0_3_20_ku\n",
      "slope_dop_cor_20_ku\n",
      "snow_density_20_ku\n",
      "snow_depth_20_ku\n",
      "solid_earth_tide_01\n",
      "space_3d\n",
      "ssha_20_ku\n",
      "ssha_interp_20_ku\n",
      "ssha_interp_numval_back_20_ku\n",
      "ssha_interp_numval_fwd_20_ku\n",
      "ssha_interp_rms_20_ku\n",
      "ssha_interp_time_back_20_ku\n",
      "ssha_interp_time_fwd_20_ku\n",
      "stack_centre_20_ku\n",
      "stack_centre_angle_20_ku\n",
      "stack_centre_look_angle_20_ku\n",
      "stack_gaussian_fitting_residuals_20_ku\n",
      "stack_kurtosis_20_ku\n",
      "stack_number_after_weighting_20_ku\n",
      "stack_number_before_weighting_20_ku\n",
      "stack_peakiness_20_ku\n",
      "stack_scaled_amplitude_20_ku\n",
      "stack_skewness_20_ku\n",
      "stack_std_20_ku\n",
      "stack_std_angle_20_ku\n",
      "surf_type_20_ku\n",
      "swh_ocean_20_ku\n",
      "time_20_ku\n",
      "time_cor_01\n",
      "uso_cor_20_ku\n",
      "uso_cor_applied_20_ku\n",
      "wind_speed_alt_20_ku\n"
     ]
    }
   ],
   "source": [
    "for i in data.variables:\n",
    "    print (i)"
   ]
  },
  {
   "cell_type": "code",
   "execution_count": null,
   "metadata": {},
   "outputs": [],
   "source": [
    "np.shape(data.variables['ssh.33'])"
   ]
  },
  {
   "cell_type": "code",
   "execution_count": null,
   "metadata": {},
   "outputs": [],
   "source": [
    "data.variables['ssh.33'][:]"
   ]
  },
  {
   "cell_type": "code",
   "execution_count": null,
   "metadata": {},
   "outputs": [],
   "source": [
    "print(data.variables['ssh.33'][60,])"
   ]
  },
  {
   "cell_type": "code",
   "execution_count": null,
   "metadata": {},
   "outputs": [],
   "source": [
    "sum=0\n",
    "for i in range(61):\n",
    "    sum=sum + data.variables['ssh.33'][i]\n",
    "    print(sum)\n",
    "sum1=sum/61\n",
    "print(sum1)\n",
    "    "
   ]
  },
  {
   "cell_type": "code",
   "execution_count": null,
   "metadata": {},
   "outputs": [],
   "source": [
    "k=np.linspace(0,0,62)\n",
    "for i in range(61):\n",
    "    k[i]=data.variables['ssh.33'][i]-sum1\n",
    "    print(k[i])"
   ]
  },
  {
   "cell_type": "code",
   "execution_count": null,
   "metadata": {},
   "outputs": [],
   "source": [
    "data1 = Dataset(\"361_0192ssh.33.nc\", \"r\", format=\"NETCDF4\")\n",
    "data1"
   ]
  },
  {
   "cell_type": "code",
   "execution_count": null,
   "metadata": {},
   "outputs": [],
   "source": [
    "for i1 in data1.variables:\n",
    "    print (i1)"
   ]
  },
  {
   "cell_type": "code",
   "execution_count": null,
   "metadata": {},
   "outputs": [],
   "source": [
    "np.shape(data1.variables['ssh.33'])"
   ]
  },
  {
   "cell_type": "code",
   "execution_count": null,
   "metadata": {},
   "outputs": [],
   "source": [
    "data1.variables['ssh.33'][:]"
   ]
  },
  {
   "cell_type": "code",
   "execution_count": null,
   "metadata": {},
   "outputs": [],
   "source": [
    "sum2=0\n",
    "sum3=0\n",
    "for i in range(236):\n",
    "    sum2=sum2 + data1.variables['ssh.33'][i]\n",
    "    print(sum2)\n",
    "sum3=sum2/236\n",
    "print(sum3)"
   ]
  },
  {
   "cell_type": "code",
   "execution_count": null,
   "metadata": {},
   "outputs": [],
   "source": [
    "k1=np.linspace(0,0,236)\n",
    "for i in range(236):\n",
    "    k1[i]=data1.variables['ssh.33'][i]-sum3\n",
    "    print(k1[i])"
   ]
  },
  {
   "cell_type": "code",
   "execution_count": null,
   "metadata": {},
   "outputs": [],
   "source": [
    "data2 = Dataset(\"307_0192ssh.33.nc\", \"r\", format=\"NETCDF4\")\n",
    "data2"
   ]
  },
  {
   "cell_type": "code",
   "execution_count": null,
   "metadata": {},
   "outputs": [],
   "source": [
    "for i2 in data2.variables:\n",
    "    print (i2)"
   ]
  },
  {
   "cell_type": "code",
   "execution_count": null,
   "metadata": {},
   "outputs": [],
   "source": [
    "np.shape(data2.variables['ssh.33'])"
   ]
  },
  {
   "cell_type": "code",
   "execution_count": null,
   "metadata": {},
   "outputs": [],
   "source": [
    "data2.variables['ssh.33'][:]"
   ]
  },
  {
   "cell_type": "code",
   "execution_count": null,
   "metadata": {},
   "outputs": [],
   "source": [
    "sum4=0\n",
    "sum5=0\n",
    "for i in range(289):\n",
    "    sum4=sum4 + data2.variables['ssh.33'][i]\n",
    "    print(sum4)\n",
    "sum5=sum4/289\n",
    "print(sum5)"
   ]
  },
  {
   "cell_type": "code",
   "execution_count": null,
   "metadata": {},
   "outputs": [],
   "source": [
    "k2=np.linspace(0,0,289)\n",
    "for i in range(289):\n",
    "    k2[i]=data2.variables['ssh.33'][i]-sum5\n",
    "    print(k2[i])"
   ]
  },
  {
   "cell_type": "code",
   "execution_count": null,
   "metadata": {},
   "outputs": [],
   "source": []
  }
 ],
 "metadata": {
  "kernelspec": {
   "display_name": "Python 3",
   "language": "python",
   "name": "python3"
  },
  "language_info": {
   "codemirror_mode": {
    "name": "ipython",
    "version": 3
   },
   "file_extension": ".py",
   "mimetype": "text/x-python",
   "name": "python",
   "nbconvert_exporter": "python",
   "pygments_lexer": "ipython3",
   "version": "3.7.4"
  }
 },
 "nbformat": 4,
 "nbformat_minor": 2
}
