{
 "cells": [
  {
   "cell_type": "code",
   "execution_count": 3,
   "metadata": {},
   "outputs": [],
   "source": [
    "import pandas as pd\n",
    "import numpy as np"
   ]
  },
  {
   "cell_type": "code",
   "execution_count": 68,
   "metadata": {},
   "outputs": [
    {
     "data": {
      "text/html": [
       "<div>\n",
       "<style scoped>\n",
       "    .dataframe tbody tr th:only-of-type {\n",
       "        vertical-align: middle;\n",
       "    }\n",
       "\n",
       "    .dataframe tbody tr th {\n",
       "        vertical-align: top;\n",
       "    }\n",
       "\n",
       "    .dataframe thead th {\n",
       "        text-align: right;\n",
       "    }\n",
       "</style>\n",
       "<table border=\"1\" class=\"dataframe\">\n",
       "  <thead>\n",
       "    <tr style=\"text-align: right;\">\n",
       "      <th></th>\n",
       "      <th>time</th>\n",
       "      <th>lat</th>\n",
       "      <th>lon</th>\n",
       "      <th>SLA</th>\n",
       "      <th>precip</th>\n",
       "      <th>enso</th>\n",
       "    </tr>\n",
       "  </thead>\n",
       "  <tbody>\n",
       "    <tr>\n",
       "      <th>0</th>\n",
       "      <td>1993-01-31</td>\n",
       "      <td>-1.25</td>\n",
       "      <td>43.75</td>\n",
       "      <td>0.0</td>\n",
       "      <td>0.204102</td>\n",
       "      <td>0.09</td>\n",
       "    </tr>\n",
       "    <tr>\n",
       "      <th>1</th>\n",
       "      <td>1993-01-31</td>\n",
       "      <td>-1.25</td>\n",
       "      <td>46.25</td>\n",
       "      <td>0.0</td>\n",
       "      <td>0.498913</td>\n",
       "      <td>0.09</td>\n",
       "    </tr>\n",
       "    <tr>\n",
       "      <th>2</th>\n",
       "      <td>1993-01-31</td>\n",
       "      <td>-1.25</td>\n",
       "      <td>48.75</td>\n",
       "      <td>0.0</td>\n",
       "      <td>0.993917</td>\n",
       "      <td>0.09</td>\n",
       "    </tr>\n",
       "    <tr>\n",
       "      <th>3</th>\n",
       "      <td>1993-01-31</td>\n",
       "      <td>-1.25</td>\n",
       "      <td>51.25</td>\n",
       "      <td>0.0</td>\n",
       "      <td>1.548956</td>\n",
       "      <td>0.09</td>\n",
       "    </tr>\n",
       "    <tr>\n",
       "      <th>4</th>\n",
       "      <td>1993-01-31</td>\n",
       "      <td>-1.25</td>\n",
       "      <td>53.75</td>\n",
       "      <td>0.0</td>\n",
       "      <td>1.448949</td>\n",
       "      <td>0.09</td>\n",
       "    </tr>\n",
       "    <tr>\n",
       "      <th>...</th>\n",
       "      <td>...</td>\n",
       "      <td>...</td>\n",
       "      <td>...</td>\n",
       "      <td>...</td>\n",
       "      <td>...</td>\n",
       "      <td>...</td>\n",
       "    </tr>\n",
       "    <tr>\n",
       "      <th>18715</th>\n",
       "      <td>1995-12-31</td>\n",
       "      <td>46.25</td>\n",
       "      <td>96.25</td>\n",
       "      <td>0.0</td>\n",
       "      <td>0.065571</td>\n",
       "      <td>-0.98</td>\n",
       "    </tr>\n",
       "    <tr>\n",
       "      <th>18716</th>\n",
       "      <td>1995-12-31</td>\n",
       "      <td>46.25</td>\n",
       "      <td>98.75</td>\n",
       "      <td>0.0</td>\n",
       "      <td>0.045687</td>\n",
       "      <td>-0.98</td>\n",
       "    </tr>\n",
       "    <tr>\n",
       "      <th>18717</th>\n",
       "      <td>1995-12-31</td>\n",
       "      <td>46.25</td>\n",
       "      <td>101.25</td>\n",
       "      <td>0.0</td>\n",
       "      <td>0.072847</td>\n",
       "      <td>-0.98</td>\n",
       "    </tr>\n",
       "    <tr>\n",
       "      <th>18718</th>\n",
       "      <td>1995-12-31</td>\n",
       "      <td>46.25</td>\n",
       "      <td>103.75</td>\n",
       "      <td>0.0</td>\n",
       "      <td>0.100346</td>\n",
       "      <td>-0.98</td>\n",
       "    </tr>\n",
       "    <tr>\n",
       "      <th>18719</th>\n",
       "      <td>1995-12-31</td>\n",
       "      <td>46.25</td>\n",
       "      <td>106.25</td>\n",
       "      <td>0.0</td>\n",
       "      <td>0.029671</td>\n",
       "      <td>-0.98</td>\n",
       "    </tr>\n",
       "  </tbody>\n",
       "</table>\n",
       "<p>18720 rows × 6 columns</p>\n",
       "</div>"
      ],
      "text/plain": [
       "             time    lat     lon  SLA    precip  enso\n",
       "0      1993-01-31  -1.25   43.75  0.0  0.204102  0.09\n",
       "1      1993-01-31  -1.25   46.25  0.0  0.498913  0.09\n",
       "2      1993-01-31  -1.25   48.75  0.0  0.993917  0.09\n",
       "3      1993-01-31  -1.25   51.25  0.0  1.548956  0.09\n",
       "4      1993-01-31  -1.25   53.75  0.0  1.448949  0.09\n",
       "...           ...    ...     ...  ...       ...   ...\n",
       "18715  1995-12-31  46.25   96.25  0.0  0.065571 -0.98\n",
       "18716  1995-12-31  46.25   98.75  0.0  0.045687 -0.98\n",
       "18717  1995-12-31  46.25  101.25  0.0  0.072847 -0.98\n",
       "18718  1995-12-31  46.25  103.75  0.0  0.100346 -0.98\n",
       "18719  1995-12-31  46.25  106.25  0.0  0.029671 -0.98\n",
       "\n",
       "[18720 rows x 6 columns]"
      ]
     },
     "execution_count": 68,
     "metadata": {},
     "output_type": "execute_result"
    }
   ],
   "source": [
    "data = pd.read_csv(\"/media/rghoshal/D4A6E10AA6E0EE44/UGP/sla.csv\")\n",
    "\n",
    "precip = pd.read_csv(\"/media/rghoshal/D4A6E10AA6E0EE44/UGP/precip.csv\")\n",
    "\n",
    "data.insert(4,\"precip\",precip[\"precip\"])\n",
    "\n",
    "enso = pd.DataFrame(np.loadtxt(\"/media/rghoshal/D4A6E10AA6E0EE44/UGP/oni.txt\"),columns=np.arange(13)).set_index(0).stack()\n",
    "enso = pd.DataFrame(enso).rename(columns = {0:\"enso\"})\n",
    "enso = enso.reset_index().rename(columns = {0:\"year\",\"level_1\":\"month\"})\n",
    "enso = enso.astype({\"year\":'int32'})\n",
    "enso = enso[(enso[\"year\"] >= 1993 ) & (enso[\"year\"] < 1996 )]\n",
    "enso[\"date\"] = data[\"time\"].unique()\n",
    "\n",
    "newenso = pd.DataFrame(np.repeat(enso.values,520,axis=0))\n",
    "newenso.columns = enso.columns\n",
    "\n",
    "data.insert(5,\"enso\",newenso[\"enso\"])\n",
    "# data.to_csv(\"data.csv\")\n",
    "data"
   ]
  },
  {
   "cell_type": "code",
   "execution_count": 69,
   "metadata": {},
   "outputs": [],
   "source": [
    "from sklearn.linear_model import LinearRegression"
   ]
  },
  {
   "cell_type": "code",
   "execution_count": 85,
   "metadata": {},
   "outputs": [],
   "source": [
    "import datetime as dt\n",
    "data['time'] = pd.to_datetime(data['time'])\n",
    "data['time'] = data['time'].map(dt.datetime.toordinal)\n",
    "data = data.fillna(0)"
   ]
  },
  {
   "cell_type": "code",
   "execution_count": 150,
   "metadata": {},
   "outputs": [],
   "source": [
    "y = data[\"precip\"]\n",
    "x = data[[\"time\",\"lat\",\"lon\",\"SLA\",\"enso\"]]\n",
    "\n",
    "msk = np.random.rand(len(x)) < 0.8\n",
    "\n",
    "y_train = y[msk]\n",
    "x_train = x[msk]\n",
    "y_test = y[~msk]\n",
    "x_test = x[~msk]"
   ]
  },
  {
   "cell_type": "code",
   "execution_count": 151,
   "metadata": {},
   "outputs": [],
   "source": [
    "model = LinearRegression()"
   ]
  },
  {
   "cell_type": "code",
   "execution_count": 152,
   "metadata": {},
   "outputs": [
    {
     "data": {
      "text/plain": [
       "LinearRegression()"
      ]
     },
     "execution_count": 152,
     "metadata": {},
     "output_type": "execute_result"
    }
   ],
   "source": [
    "model.fit(x_train,y_train)"
   ]
  },
  {
   "cell_type": "code",
   "execution_count": 153,
   "metadata": {},
   "outputs": [
    {
     "data": {
      "text/plain": [
       "0.2656891953378864"
      ]
     },
     "execution_count": 153,
     "metadata": {},
     "output_type": "execute_result"
    }
   ],
   "source": [
    "model.score(x_test,y_test)"
   ]
  },
  {
   "cell_type": "code",
   "execution_count": null,
   "metadata": {},
   "outputs": [],
   "source": []
  }
 ],
 "metadata": {
  "kernelspec": {
   "display_name": "Python 3",
   "language": "python",
   "name": "python3"
  },
  "language_info": {
   "codemirror_mode": {
    "name": "ipython",
    "version": 3
   },
   "file_extension": ".py",
   "mimetype": "text/x-python",
   "name": "python",
   "nbconvert_exporter": "python",
   "pygments_lexer": "ipython3",
   "version": "3.7.7"
  }
 },
 "nbformat": 4,
 "nbformat_minor": 4
}
