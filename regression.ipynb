{
 "cells": [
  {
   "cell_type": "code",
   "execution_count": 3,
   "metadata": {},
   "outputs": [],
   "source": [
    "import pandas as pd\n",
    "import numpy as np"
   ]
  },
  {
   "cell_type": "code",
   "execution_count": 48,
   "metadata": {},
   "outputs": [],
   "source": [
    "data = pd.read_csv(\"sla.csv\")\n",
    "\n",
    "precip = pd.read_csv(\"precip.csv\")\n",
    "\n",
    "data.insert(3,\"precip\",precip[\"precip\"])\n",
    "\n",
    "enso = pd.DataFrame(np.loadtxt(\"/media/rghoshal/D4A6E10AA6E0EE44/UGP/oni.txt\"),columns=np.arange(13)).set_index(0).stack()\n",
    "enso = pd.DataFrame(enso).rename(columns = {0:\"enso\"})\n",
    "enso = enso.reset_index().rename(columns = {0:\"year\",\"level_1\":\"month\"})\n",
    "enso = enso.astype({\"year\":'int32'})\n",
    "enso = enso[(enso[\"year\"] >= 1993 ) & (enso[\"year\"] < 1996 )]\n",
    "enso[\"date\"] = sla[\"time\"].unique()\n",
    "\n",
    "newenso = pd.DataFrame(np.repeat(enso.values,520,axis=0))\n",
    "newenso.columns = enso.columns\n",
    "\n",
    "data.insert(4,\"enso\",newenso[\"enso\"])\n"
   ]
  },
  {
   "cell_type": "code",
   "execution_count": 50,
   "metadata": {
    "scrolled": false
   },
   "outputs": [],
   "source": [
    "data.to_csv(\"data.csv\")"
   ]
  },
  {
   "cell_type": "code",
   "execution_count": null,
   "metadata": {},
   "outputs": [],
   "source": []
  }
 ],
 "metadata": {
  "kernelspec": {
   "display_name": "Python 3",
   "language": "python",
   "name": "python3"
  },
  "language_info": {
   "codemirror_mode": {
    "name": "ipython",
    "version": 3
   },
   "file_extension": ".py",
   "mimetype": "text/x-python",
   "name": "python",
   "nbconvert_exporter": "python",
   "pygments_lexer": "ipython3",
   "version": "3.7.7"
  }
 },
 "nbformat": 4,
 "nbformat_minor": 4
}
