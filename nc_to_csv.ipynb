{
 "cells": [
  {
   "cell_type": "code",
   "execution_count": 2,
   "metadata": {},
   "outputs": [],
   "source": [
    "import xarray as xr\n",
    "from datetime import date\n",
    "from datetime import timedelta\n",
    "import xesmf as xe\n",
    "import numpy as np\n",
    "import calendar\n",
    "import pandas as pd\n",
    "import geopandas as gpd"
   ]
  },
  {
   "cell_type": "code",
   "execution_count": null,
   "metadata": {
    "scrolled": true
   },
   "outputs": [],
   "source": [
    "str1 = \"/media/rajat/01D6F7B2FC2FF8D0/UGP/datasets/cmems_sla_monthly/dt_global_allsat_msla_h_y\"\n",
    "str2 = \"_m\"\n",
    "curr = date(1993,1,1)\n",
    "str3 = \".nc\"\n",
    "str4 = str1 + str(curr.year) + str2 + \"0\" + str(curr.month) + str3;\n",
    "\n",
    "sla = pd.DataFrame(columns=[\"time\" ,\"indian_ocean\" , \"arabian_sea\" , \"bay_of_bengal\"])\n",
    "i = 0\n",
    "while curr <= date(2019,9,1):\n",
    "#     print (str4)\n",
    "    df = xr.open_mfdataset(str4).sel(latitude = slice(0,45) , longitude = slice(45,105)).to_dataframe().reset_index()\n",
    "    \n",
    "    indian_ocean = df[(df[\"latitude\"] < 8) & (df[\"sla\"].isnull() == False)]\n",
    "    arabian_sea = df[(df[\"latitude\"] > 8) & (df[\"longitude\"] < 77.5) & (df[\"sla\"].isnull() == False)]\n",
    "    bay_bangal = df[(df[\"latitude\"] > 8) & (df[\"longitude\"] > 77.5) & (df[\"sla\"].isnull() == False)]\n",
    "\n",
    "    s1 = indian_ocean[\"sla\"].mean()\n",
    "    s2 = arabian_sea[\"sla\"].mean()\n",
    "    s3 = bay_bangal[\"sla\"].mean()\n",
    "    sla.loc[i] = [curr,s1,s2,s3]\n",
    "    i+=1\n",
    "    \n",
    "    days_in_month = calendar.monthrange(curr.year, curr.month)[1]\n",
    "    curr += timedelta(days = days_in_month)\n",
    "#     print(str4)\n",
    "    if curr.month < 10:\n",
    "        str4 = str1 + str(curr.year) + str2 + \"0\" + str(curr.month) + str3;\n",
    "    else:\n",
    "        str4 = str1 + str(curr.year) + str2 + str(curr.month) + str3;\n"
   ]
  },
  {
   "cell_type": "code",
   "execution_count": 34,
   "metadata": {},
   "outputs": [],
   "source": [
    "sla.to_csv(\"/media/rajat/01D6F7B2FC2FF8D0/UGP/datasets/sla.csv\")"
   ]
  },
  {
   "cell_type": "code",
   "execution_count": 48,
   "metadata": {},
   "outputs": [],
   "source": [
    "region1 = gpd.read_file('/media/rajat/01D6F7B2FC2FF8D0/UGP/datasets/region1.geojson')\n",
    "region2 = gpd.read_file('/media/rajat/01D6F7B2FC2FF8D0/UGP/datasets/region2.geojson')\n",
    "region3 = gpd.read_file('/media/rajat/01D6F7B2FC2FF8D0/UGP/datasets/region3.geojson')\n",
    "region4 = gpd.read_file('/media/rajat/01D6F7B2FC2FF8D0/UGP/datasets/region4.geojson')\n",
    "\n",
    "\n",
    "str1 = \"/media/rajat/01D6F7B2FC2FF8D0/UGP/datasets/imd_dataset/_Clim_Pred_LRF_New_RF25_IMD0p25\"\n",
    "curr = 1993\n",
    "str3 = \".nc\"\n",
    "\n",
    "precip = pd.DataFrame(columns=[\"time\" ,\"r1\" , \"r2\" , \"r3\" , \"r4\"])\n",
    "i = 0\n",
    "\n",
    "while curr <= 2019:\n",
    "    \n",
    "    str4 = str1 + str(curr) + str3\n",
    "    \n",
    "    df = xr.open_mfdataset(str4).resample(time=\"1M\").reduce(np.nansum).to_dataframe().reset_index()\n",
    "    gdf = gpd.GeoDataFrame(df, geometry=gpd.points_from_xy(df['lon'], df['lat']))\n",
    "    del df\n",
    "    mask_region1 = (region1.loc[0, 'geometry'])\n",
    "    mask_region2 = (region2.loc[0, 'geometry'])\n",
    "    mask_region3 = (region3.loc[0, 'geometry'])\n",
    "    mask_region4 = (region4.loc[0, 'geometry'])\n",
    "    gdf.loc[:,'region1'] = gdf.within((region1.loc[0, 'geometry']))\n",
    "    gdf.loc[:,'region2'] = gdf.within((region2.loc[0, 'geometry']))\n",
    "    gdf.loc[:,'region3'] = gdf.within((region3.loc[0, 'geometry']))\n",
    "    gdf.loc[:,'region4'] = gdf.within((region4.loc[0, 'geometry']))\n",
    "    r1 = pd.DataFrame(gdf[gdf[\"region1\"] == True])\n",
    "    r2 = pd.DataFrame(gdf[gdf[\"region2\"] == True])\n",
    "    r3 = pd.DataFrame(gdf[gdf[\"region3\"] == True])\n",
    "    r4 = pd.DataFrame(gdf[gdf[\"region4\"] == True])\n",
    "    del gdf\n",
    "    r1_precip = r1[\"rf\"].groupby(pd.DatetimeIndex(r1['time'])).sum()\n",
    "    r2_precip = r2[\"rf\"].groupby(pd.DatetimeIndex(r2['time'])).sum()\n",
    "    r3_precip = r3[\"rf\"].groupby(pd.DatetimeIndex(r3['time'])).sum()\n",
    "    r4_precip = r4[\"rf\"].groupby(pd.DatetimeIndex(r4['time'])).sum()\n",
    "    \n",
    "    temp = pd.concat([r1_precip,r2_precip,r3_precip,r4_precip],1).reset_index()\n",
    "    temp.columns = [\"time\",'r1','r2','r3','r4']\n",
    "    precip = pd.concat([precip , temp])\n",
    "    curr += 1\n"
   ]
  },
  {
   "cell_type": "code",
   "execution_count": 49,
   "metadata": {},
   "outputs": [],
   "source": [
    "precip.to_csv(\"/media/rajat/01D6F7B2FC2FF8D0/UGP/datasets/precip.csv\")"
   ]
  },
  {
   "cell_type": "code",
   "execution_count": null,
   "metadata": {},
   "outputs": [],
   "source": []
  },
  {
   "cell_type": "code",
   "execution_count": null,
   "metadata": {},
   "outputs": [],
   "source": []
  }
 ],
 "metadata": {
  "kernelspec": {
   "display_name": "Python 3",
   "language": "python",
   "name": "python3"
  }
 },
 "nbformat": 4,
 "nbformat_minor": 4
}
