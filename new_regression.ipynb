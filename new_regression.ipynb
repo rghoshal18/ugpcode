{
 "cells": [
  {
   "cell_type": "code",
   "execution_count": 2,
   "metadata": {},
   "outputs": [],
   "source": [
    "import pandas as pd\n",
    "import numpy as np"
   ]
  },
  {
   "cell_type": "code",
   "execution_count": 4,
   "metadata": {},
   "outputs": [
    {
     "data": {
      "text/html": [
       "<div>\n",
       "<style scoped>\n",
       "    .dataframe tbody tr th:only-of-type {\n",
       "        vertical-align: middle;\n",
       "    }\n",
       "\n",
       "    .dataframe tbody tr th {\n",
       "        vertical-align: top;\n",
       "    }\n",
       "\n",
       "    .dataframe thead th {\n",
       "        text-align: right;\n",
       "    }\n",
       "</style>\n",
       "<table border=\"1\" class=\"dataframe\">\n",
       "  <thead>\n",
       "    <tr style=\"text-align: right;\">\n",
       "      <th></th>\n",
       "      <th>time</th>\n",
       "      <th>lat</th>\n",
       "      <th>lon</th>\n",
       "      <th>sla</th>\n",
       "      <th>precip</th>\n",
       "      <th>enso</th>\n",
       "    </tr>\n",
       "  </thead>\n",
       "  <tbody>\n",
       "    <tr>\n",
       "      <th>0</th>\n",
       "      <td>2006-01-15</td>\n",
       "      <td>-1.25</td>\n",
       "      <td>43.75</td>\n",
       "      <td>0.0</td>\n",
       "      <td>0.002584</td>\n",
       "      <td>-0.79</td>\n",
       "    </tr>\n",
       "    <tr>\n",
       "      <th>1</th>\n",
       "      <td>2006-01-15</td>\n",
       "      <td>-1.25</td>\n",
       "      <td>46.25</td>\n",
       "      <td>0.0</td>\n",
       "      <td>0.041839</td>\n",
       "      <td>-0.79</td>\n",
       "    </tr>\n",
       "    <tr>\n",
       "      <th>2</th>\n",
       "      <td>2006-01-15</td>\n",
       "      <td>-1.25</td>\n",
       "      <td>48.75</td>\n",
       "      <td>0.0</td>\n",
       "      <td>0.253760</td>\n",
       "      <td>-0.79</td>\n",
       "    </tr>\n",
       "    <tr>\n",
       "      <th>3</th>\n",
       "      <td>2006-01-15</td>\n",
       "      <td>-1.25</td>\n",
       "      <td>51.25</td>\n",
       "      <td>0.0</td>\n",
       "      <td>0.547002</td>\n",
       "      <td>-0.79</td>\n",
       "    </tr>\n",
       "    <tr>\n",
       "      <th>4</th>\n",
       "      <td>2006-01-15</td>\n",
       "      <td>-1.25</td>\n",
       "      <td>53.75</td>\n",
       "      <td>0.0</td>\n",
       "      <td>0.997475</td>\n",
       "      <td>-0.79</td>\n",
       "    </tr>\n",
       "    <tr>\n",
       "      <th>...</th>\n",
       "      <td>...</td>\n",
       "      <td>...</td>\n",
       "      <td>...</td>\n",
       "      <td>...</td>\n",
       "      <td>...</td>\n",
       "      <td>...</td>\n",
       "    </tr>\n",
       "    <tr>\n",
       "      <th>81115</th>\n",
       "      <td>2018-12-15</td>\n",
       "      <td>46.25</td>\n",
       "      <td>96.25</td>\n",
       "      <td>0.0</td>\n",
       "      <td>0.153215</td>\n",
       "      <td>0.81</td>\n",
       "    </tr>\n",
       "    <tr>\n",
       "      <th>81116</th>\n",
       "      <td>2018-12-15</td>\n",
       "      <td>46.25</td>\n",
       "      <td>98.75</td>\n",
       "      <td>0.0</td>\n",
       "      <td>0.059969</td>\n",
       "      <td>0.81</td>\n",
       "    </tr>\n",
       "    <tr>\n",
       "      <th>81117</th>\n",
       "      <td>2018-12-15</td>\n",
       "      <td>46.25</td>\n",
       "      <td>101.25</td>\n",
       "      <td>0.0</td>\n",
       "      <td>0.099445</td>\n",
       "      <td>0.81</td>\n",
       "    </tr>\n",
       "    <tr>\n",
       "      <th>81118</th>\n",
       "      <td>2018-12-15</td>\n",
       "      <td>46.25</td>\n",
       "      <td>103.75</td>\n",
       "      <td>0.0</td>\n",
       "      <td>0.079326</td>\n",
       "      <td>0.81</td>\n",
       "    </tr>\n",
       "    <tr>\n",
       "      <th>81119</th>\n",
       "      <td>2018-12-15</td>\n",
       "      <td>46.25</td>\n",
       "      <td>106.25</td>\n",
       "      <td>0.0</td>\n",
       "      <td>0.054988</td>\n",
       "      <td>0.81</td>\n",
       "    </tr>\n",
       "  </tbody>\n",
       "</table>\n",
       "<p>81120 rows × 6 columns</p>\n",
       "</div>"
      ],
      "text/plain": [
       "             time    lat     lon  sla    precip  enso\n",
       "0      2006-01-15  -1.25   43.75  0.0  0.002584 -0.79\n",
       "1      2006-01-15  -1.25   46.25  0.0  0.041839 -0.79\n",
       "2      2006-01-15  -1.25   48.75  0.0  0.253760 -0.79\n",
       "3      2006-01-15  -1.25   51.25  0.0  0.547002 -0.79\n",
       "4      2006-01-15  -1.25   53.75  0.0  0.997475 -0.79\n",
       "...           ...    ...     ...  ...       ...   ...\n",
       "81115  2018-12-15  46.25   96.25  0.0  0.153215  0.81\n",
       "81116  2018-12-15  46.25   98.75  0.0  0.059969  0.81\n",
       "81117  2018-12-15  46.25  101.25  0.0  0.099445  0.81\n",
       "81118  2018-12-15  46.25  103.75  0.0  0.079326  0.81\n",
       "81119  2018-12-15  46.25  106.25  0.0  0.054988  0.81\n",
       "\n",
       "[81120 rows x 6 columns]"
      ]
     },
     "execution_count": 4,
     "metadata": {},
     "output_type": "execute_result"
    }
   ],
   "source": [
    "data = pd.read_csv(\"/media/rghoshal/D4A6E10AA6E0EE44/UGP/datasets/sla3.csv\")\n",
    "precip = pd.read_csv(\"/media/rghoshal/D4A6E10AA6E0EE44/UGP/datasets/precip3.csv\")\n",
    "\n",
    "data.insert(4,\"precip\",precip[\"precip\"])\n",
    "\n",
    "enso = pd.DataFrame(np.loadtxt(\"/media/rghoshal/D4A6E10AA6E0EE44/UGP/datasets/oni.txt\"),columns=np.arange(13)).set_index(0).stack()\n",
    "enso = pd.DataFrame(enso).rename(columns = {0:\"enso\"})\n",
    "enso = enso.reset_index().rename(columns = {0:\"year\",\"level_1\":\"month\"})\n",
    "enso = enso.astype({\"year\":'int32'})\n",
    "enso = enso[(enso[\"year\"] >= 2006 ) & (enso[\"year\"] < 2019 )]\n",
    "enso[\"date\"] = data[\"time\"].unique()\n",
    "\n",
    "newenso = pd.DataFrame(np.repeat(enso.values,520,axis=0))\n",
    "newenso.columns = enso.columns\n",
    "\n",
    "data.insert(5,\"enso\",newenso[\"enso\"])\n",
    "data.to_csv(\"/media/rghoshal/D4A6E10AA6E0EE44/UGP/datasets/data3.csv\")\n",
    "data"
   ]
  },
  {
   "cell_type": "code",
   "execution_count": 4,
   "metadata": {},
   "outputs": [],
   "source": [
    "from sklearn.linear_model import LinearRegression\n",
    "import datetime as dt"
   ]
  },
  {
   "cell_type": "code",
   "execution_count": 11,
   "metadata": {},
   "outputs": [],
   "source": [
    "import datetime as dt\n",
    "data['time'] = pd.to_datetime(data['time'])\n",
    "data['time'] = data['time'].map(dt.datetime.toordinal)\n",
    "\n",
    "data = data.fillna(0)\n",
    "# data[\"time\"]"
   ]
  },
  {
   "cell_type": "code",
   "execution_count": 12,
   "metadata": {},
   "outputs": [],
   "source": [
    "y = data[\"precip\"]\n",
    "x = data[[\"time\",\"lat\",\"lon\",\"sla\",\"enso\"]]\n",
    "\n",
    "msk = np.random.rand(len(x)) < 0.8\n",
    "\n",
    "y_train = y[msk]\n",
    "x_train = x[msk]\n",
    "y_test = y[~msk]\n",
    "x_test = x[~msk]"
   ]
  },
  {
   "cell_type": "code",
   "execution_count": 13,
   "metadata": {},
   "outputs": [],
   "source": [
    "model = LinearRegression()"
   ]
  },
  {
   "cell_type": "code",
   "execution_count": 14,
   "metadata": {},
   "outputs": [
    {
     "data": {
      "text/plain": [
       "LinearRegression()"
      ]
     },
     "execution_count": 14,
     "metadata": {},
     "output_type": "execute_result"
    }
   ],
   "source": [
    "model.fit(x_train,y_train)"
   ]
  },
  {
   "cell_type": "code",
   "execution_count": 15,
   "metadata": {},
   "outputs": [
    {
     "data": {
      "text/plain": [
       "0.25978184648867964"
      ]
     },
     "execution_count": 15,
     "metadata": {},
     "output_type": "execute_result"
    }
   ],
   "source": [
    "model.score(x_test,y_test)"
   ]
  },
  {
   "cell_type": "code",
   "execution_count": null,
   "metadata": {},
   "outputs": [],
   "source": []
  }
 ],
 "metadata": {
  "kernelspec": {
   "display_name": "Python 3",
   "language": "python",
   "name": "python3"
  },
  "language_info": {
   "codemirror_mode": {
    "name": "ipython",
    "version": 3
   },
   "file_extension": ".py",
   "mimetype": "text/x-python",
   "name": "python",
   "nbconvert_exporter": "python",
   "pygments_lexer": "ipython3",
   "version": "3.7.8"
  }
 },
 "nbformat": 4,
 "nbformat_minor": 4
}
