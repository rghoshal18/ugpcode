{
 "cells": [
  {
   "cell_type": "code",
   "execution_count": 1,
   "metadata": {},
   "outputs": [],
   "source": [
    "import pandas as pd\n",
    "import numpy as np"
   ]
  },
  {
   "cell_type": "code",
   "execution_count": 2,
   "metadata": {},
   "outputs": [],
   "source": [
    "def centroids(df,value):\n",
    "    \n",
    "    ## df description\n",
    "    ## 1st dimension year\n",
    "    ## 2nd dimension lat\n",
    "    ## 3rd dimension lon\n",
    "    ## 4th value\n",
    "\n",
    "    df[\"transformed\"] = 1\n",
    "    \n",
    "    for lat in df[\"lat\"].unique():\n",
    "        for lon in df[\"lon\"].unique():\n",
    "            dfmax = df[value][ (df[\"lat\"] == lat) & (df[\"lon\"] == lon) ].max()\n",
    "            dfmin = df[value][ (df[\"lat\"] == lat) & (df[\"lon\"] == lon) ].min()\n",
    "            for time in df[\"time\"].unique():\n",
    "                if dfmax != dfmin:\n",
    "                    df[\"transformed\"][ (df[\"time\"] == time) & (df[\"lat\"] == lat) & (df[\"lon\"] == lon) ] = (df[value][ (df[\"time\"] == time) & (df[\"lat\"] == lat) & (df[\"lon\"] == lon) ] - dfmin)/(dfmax - dfmin)\n",
    "    coordx=[]\n",
    "    coordy=[]\n",
    "    for time in df[\"time\"].unique():\n",
    "        coordx.append(np.dot(df[\"transformed\"][df[\"time\"] == time],df[\"lon\"][df[\"time\"] == time])/df[\"transformed\"][df[\"time\"] == time].sum())\n",
    "        coordy.append(np.dot(df[\"transformed\"][df[\"time\"] == time],df[\"lat\"][df[\"time\"] == time])/df[\"transformed\"][df[\"time\"] == time].sum())\n",
    "        \n",
    "    return coordx,coordy"
   ]
  },
  {
   "cell_type": "code",
   "execution_count": 3,
   "metadata": {},
   "outputs": [],
   "source": [
    "data = pd.read_csv(\"/mnt/d/UGP/datasets/data.csv\",index_col=\"Unnamed: 0\").drop(columns=[\"sla\",\"enso\"])"
   ]
  },
  {
   "cell_type": "code",
   "execution_count": 36,
   "metadata": {},
   "outputs": [],
   "source": []
  },
  {
   "cell_type": "code",
   "execution_count": 37,
   "metadata": {},
   "outputs": [
    {
     "name": "stderr",
     "output_type": "stream",
     "text": [
      "/home/rghoshal/anaconda3/lib/python3.7/site-packages/ipykernel_launcher.py:17: SettingWithCopyWarning: \n",
      "A value is trying to be set on a copy of a slice from a DataFrame\n",
      "\n",
      "See the caveats in the documentation: http://pandas.pydata.org/pandas-docs/stable/indexing.html#indexing-view-versus-copy\n",
      "/home/rghoshal/anaconda3/lib/python3.7/site-packages/ipykernel_launcher.py:17: SettingWithCopyWarning: \n",
      "A value is trying to be set on a copy of a slice from a DataFrame\n",
      "\n",
      "See the caveats in the documentation: http://pandas.pydata.org/pandas-docs/stable/indexing.html#indexing-view-versus-copy\n"
     ]
    },
    {
     "data": {
      "text/plain": [
       "([83.49228147904275,\n",
       "  83.36983197180156,\n",
       "  84.82144515670707,\n",
       "  84.72991724016009,\n",
       "  82.06400769219158,\n",
       "  83.64763630140529,\n",
       "  84.96943022533567,\n",
       "  85.75367813379081,\n",
       "  85.45703643384539,\n",
       "  83.67117540931137,\n",
       "  83.79540077724425,\n",
       "  83.27169722882223,\n",
       "  84.44097642564078,\n",
       "  83.18827899374732,\n",
       "  84.25027971600203,\n",
       "  84.97163217362377,\n",
       "  83.89556707094816,\n",
       "  83.89281417285294,\n",
       "  83.9347821258753,\n",
       "  84.50193355465126,\n",
       "  84.10258271456885,\n",
       "  83.81637226655977,\n",
       "  83.04697051447694,\n",
       "  84.2335611915408,\n",
       "  85.3489756840937,\n",
       "  83.99816918361162],\n",
       " [14.855416278104796,\n",
       "  14.70141970282668,\n",
       "  14.35555252316711,\n",
       "  14.793689985070001,\n",
       "  15.33718653915138,\n",
       "  14.660858785037885,\n",
       "  14.675164610240053,\n",
       "  14.30108644251118,\n",
       "  14.362863935277204,\n",
       "  14.250468814037509,\n",
       "  14.799123076843863,\n",
       "  14.343335889170861,\n",
       "  14.653958740088276,\n",
       "  14.186107069542771,\n",
       "  14.418211092255573,\n",
       "  14.026923229108041,\n",
       "  14.540062801257347,\n",
       "  14.448294311182554,\n",
       "  14.716562792864451,\n",
       "  14.750466519892202,\n",
       "  14.470655316916302,\n",
       "  14.521962254625143,\n",
       "  15.052387259712694,\n",
       "  15.040139033464046,\n",
       "  14.497300278429524,\n",
       "  14.346232210752243])"
      ]
     },
     "execution_count": 37,
     "metadata": {},
     "output_type": "execute_result"
    }
   ],
   "source": [
    "x,y = centroids(data,\"precip\")"
   ]
  },
  {
   "cell_type": "code",
   "execution_count": 39,
   "metadata": {},
   "outputs": [],
   "source": []
  },
  {
   "cell_type": "code",
   "execution_count": null,
   "metadata": {},
   "outputs": [],
   "source": []
  }
 ],
 "metadata": {
  "kernelspec": {
   "name": "python370jvsc74a57bd032c429f952c1249452986c4e1ae055136e1d68087812fd86c2cae30c9f38081c",
   "display_name": "Python 3.7.0 64-bit ('base': conda)"
  },
  "language_info": {
   "codemirror_mode": {
    "name": "ipython",
    "version": 3
   },
   "file_extension": ".py",
   "mimetype": "text/x-python",
   "name": "python",
   "nbconvert_exporter": "python",
   "pygments_lexer": "ipython3",
   "version": "3.7.0"
  }
 },
 "nbformat": 4,
 "nbformat_minor": 2
}