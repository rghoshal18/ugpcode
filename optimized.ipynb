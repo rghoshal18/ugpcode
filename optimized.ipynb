{
 "cells": [
  {
   "cell_type": "code",
   "execution_count": 1,
   "metadata": {},
   "outputs": [],
   "source": [
    "import pandas as pd\n",
    "import numpy as np\n",
    "import xarray as xr\n",
    "# import cartopy.crs as ccrs\n",
    "# import cartopy.feature as cfeat\n",
    "# import matplotlib.pyplot as plt\n",
    "# import matplotlib.animation as animation\n",
    "import geopandas as gpd\n",
    "import rioxarray\n",
    "from shapely.geometry import mapping"
   ]
  },
  {
   "cell_type": "code",
   "execution_count": 2,
   "metadata": {},
   "outputs": [],
   "source": [
    "def centroids(ds):\n",
    "    max_precip=ds.max(dim=\"time\",skipna=True)\n",
    "    min_precip=ds.min(dim=\"time\",skipna=True)\n",
    "    a = (ds - min_precip+0.0000001)/(max_precip - min_precip+0.0000001)\n",
    "    y = a.lat.dot(a.precip.fillna(0) , dims=[\"lon\",\"lat\"])/ a.precip.fillna(0).sum(skipna=True , dim=[\"lat\",\"lon\"])\n",
    "    x = a.lon.dot(a.precip.fillna(0) , dims=[\"lon\",\"lat\"])/ a.precip.fillna(0).sum(skipna=True , dim=[\"lat\",\"lon\"])\n",
    "    return (x,y)\n"
   ]
  },
  {
   "cell_type": "code",
   "execution_count": 3,
   "metadata": {},
   "outputs": [],
   "source": [
    "ds = xr.open_mfdataset(\"/mnt/d/UGP/datasets/full_data_daily_v2020_10_2000.nc\").sel(lat = slice(5,45) , lon = slice(65,100))\n",
    "ds = ds.precip.rio.set_crs(4326)\n",
    "sf = gpd.read_file('/mnt/d/UGP/datasets/hydrosheds_India.shp')"
   ]
  },
  {
   "cell_type": "code",
   "execution_count": 9,
   "metadata": {},
   "outputs": [
    {
     "output_type": "execute_result",
     "data": {
      "text/plain": [
       "<xarray.DataArray 'precip' (time: 366, lat: 34, lon: 35)>\n",
       "dask.array<copy, shape=(366, 34, 35), dtype=float32, chunksize=(366, 34, 35), chunktype=numpy.ndarray>\n",
       "Coordinates:\n",
       "  * lat          (lat) float64 6.5 7.5 8.5 9.5 10.5 ... 35.5 36.5 37.5 38.5 39.5\n",
       "  * lon          (lon) float64 65.5 66.5 67.5 68.5 69.5 ... 96.5 97.5 98.5 99.5\n",
       "  * time         (time) datetime64[ns] 2000-01-01 2000-01-02 ... 2000-12-31\n",
       "    spatial_ref  int64 0\n",
       "Attributes:\n",
       "    long_name:  gpcc full data daily product version 2020 precipitation per grid\n",
       "    units:      mm/day\n",
       "    code:       20"
      ],
      "text/html": "<div><svg style=\"position: absolute; width: 0; height: 0; overflow: hidden\">\n<defs>\n<symbol id=\"icon-database\" viewBox=\"0 0 32 32\">\n<path d=\"M16 0c-8.837 0-16 2.239-16 5v4c0 2.761 7.163 5 16 5s16-2.239 16-5v-4c0-2.761-7.163-5-16-5z\"></path>\n<path d=\"M16 17c-8.837 0-16-2.239-16-5v6c0 2.761 7.163 5 16 5s16-2.239 16-5v-6c0 2.761-7.163 5-16 5z\"></path>\n<path d=\"M16 26c-8.837 0-16-2.239-16-5v6c0 2.761 7.163 5 16 5s16-2.239 16-5v-6c0 2.761-7.163 5-16 5z\"></path>\n</symbol>\n<symbol id=\"icon-file-text2\" viewBox=\"0 0 32 32\">\n<path d=\"M28.681 7.159c-0.694-0.947-1.662-2.053-2.724-3.116s-2.169-2.030-3.116-2.724c-1.612-1.182-2.393-1.319-2.841-1.319h-15.5c-1.378 0-2.5 1.121-2.5 2.5v27c0 1.378 1.122 2.5 2.5 2.5h23c1.378 0 2.5-1.122 2.5-2.5v-19.5c0-0.448-0.137-1.23-1.319-2.841zM24.543 5.457c0.959 0.959 1.712 1.825 2.268 2.543h-4.811v-4.811c0.718 0.556 1.584 1.309 2.543 2.268zM28 29.5c0 0.271-0.229 0.5-0.5 0.5h-23c-0.271 0-0.5-0.229-0.5-0.5v-27c0-0.271 0.229-0.5 0.5-0.5 0 0 15.499-0 15.5 0v7c0 0.552 0.448 1 1 1h7v19.5z\"></path>\n<path d=\"M23 26h-14c-0.552 0-1-0.448-1-1s0.448-1 1-1h14c0.552 0 1 0.448 1 1s-0.448 1-1 1z\"></path>\n<path d=\"M23 22h-14c-0.552 0-1-0.448-1-1s0.448-1 1-1h14c0.552 0 1 0.448 1 1s-0.448 1-1 1z\"></path>\n<path d=\"M23 18h-14c-0.552 0-1-0.448-1-1s0.448-1 1-1h14c0.552 0 1 0.448 1 1s-0.448 1-1 1z\"></path>\n</symbol>\n</defs>\n</svg>\n<style>/* CSS stylesheet for displaying xarray objects in jupyterlab.\n *\n */\n\n:root {\n  --xr-font-color0: var(--jp-content-font-color0, rgba(0, 0, 0, 1));\n  --xr-font-color2: var(--jp-content-font-color2, rgba(0, 0, 0, 0.54));\n  --xr-font-color3: var(--jp-content-font-color3, rgba(0, 0, 0, 0.38));\n  --xr-border-color: var(--jp-border-color2, #e0e0e0);\n  --xr-disabled-color: var(--jp-layout-color3, #bdbdbd);\n  --xr-background-color: var(--jp-layout-color0, white);\n  --xr-background-color-row-even: var(--jp-layout-color1, white);\n  --xr-background-color-row-odd: var(--jp-layout-color2, #eeeeee);\n}\n\nhtml[theme=dark],\nbody.vscode-dark {\n  --xr-font-color0: rgba(255, 255, 255, 1);\n  --xr-font-color2: rgba(255, 255, 255, 0.54);\n  --xr-font-color3: rgba(255, 255, 255, 0.38);\n  --xr-border-color: #1F1F1F;\n  --xr-disabled-color: #515151;\n  --xr-background-color: #111111;\n  --xr-background-color-row-even: #111111;\n  --xr-background-color-row-odd: #313131;\n}\n\n.xr-wrap {\n  display: block;\n  min-width: 300px;\n  max-width: 700px;\n}\n\n.xr-text-repr-fallback {\n  /* fallback to plain text repr when CSS is not injected (untrusted notebook) */\n  display: none;\n}\n\n.xr-header {\n  padding-top: 6px;\n  padding-bottom: 6px;\n  margin-bottom: 4px;\n  border-bottom: solid 1px var(--xr-border-color);\n}\n\n.xr-header > div,\n.xr-header > ul {\n  display: inline;\n  margin-top: 0;\n  margin-bottom: 0;\n}\n\n.xr-obj-type,\n.xr-array-name {\n  margin-left: 2px;\n  margin-right: 10px;\n}\n\n.xr-obj-type {\n  color: var(--xr-font-color2);\n}\n\n.xr-sections {\n  padding-left: 0 !important;\n  display: grid;\n  grid-template-columns: 150px auto auto 1fr 20px 20px;\n}\n\n.xr-section-item {\n  display: contents;\n}\n\n.xr-section-item input {\n  display: none;\n}\n\n.xr-section-item input + label {\n  color: var(--xr-disabled-color);\n}\n\n.xr-section-item input:enabled + label {\n  cursor: pointer;\n  color: var(--xr-font-color2);\n}\n\n.xr-section-item input:enabled + label:hover {\n  color: var(--xr-font-color0);\n}\n\n.xr-section-summary {\n  grid-column: 1;\n  color: var(--xr-font-color2);\n  font-weight: 500;\n}\n\n.xr-section-summary > span {\n  display: inline-block;\n  padding-left: 0.5em;\n}\n\n.xr-section-summary-in:disabled + label {\n  color: var(--xr-font-color2);\n}\n\n.xr-section-summary-in + label:before {\n  display: inline-block;\n  content: '►';\n  font-size: 11px;\n  width: 15px;\n  text-align: center;\n}\n\n.xr-section-summary-in:disabled + label:before {\n  color: var(--xr-disabled-color);\n}\n\n.xr-section-summary-in:checked + label:before {\n  content: '▼';\n}\n\n.xr-section-summary-in:checked + label > span {\n  display: none;\n}\n\n.xr-section-summary,\n.xr-section-inline-details {\n  padding-top: 4px;\n  padding-bottom: 4px;\n}\n\n.xr-section-inline-details {\n  grid-column: 2 / -1;\n}\n\n.xr-section-details {\n  display: none;\n  grid-column: 1 / -1;\n  margin-bottom: 5px;\n}\n\n.xr-section-summary-in:checked ~ .xr-section-details {\n  display: contents;\n}\n\n.xr-array-wrap {\n  grid-column: 1 / -1;\n  display: grid;\n  grid-template-columns: 20px auto;\n}\n\n.xr-array-wrap > label {\n  grid-column: 1;\n  vertical-align: top;\n}\n\n.xr-preview {\n  color: var(--xr-font-color3);\n}\n\n.xr-array-preview,\n.xr-array-data {\n  padding: 0 5px !important;\n  grid-column: 2;\n}\n\n.xr-array-data,\n.xr-array-in:checked ~ .xr-array-preview {\n  display: none;\n}\n\n.xr-array-in:checked ~ .xr-array-data,\n.xr-array-preview {\n  display: inline-block;\n}\n\n.xr-dim-list {\n  display: inline-block !important;\n  list-style: none;\n  padding: 0 !important;\n  margin: 0;\n}\n\n.xr-dim-list li {\n  display: inline-block;\n  padding: 0;\n  margin: 0;\n}\n\n.xr-dim-list:before {\n  content: '(';\n}\n\n.xr-dim-list:after {\n  content: ')';\n}\n\n.xr-dim-list li:not(:last-child):after {\n  content: ',';\n  padding-right: 5px;\n}\n\n.xr-has-index {\n  font-weight: bold;\n}\n\n.xr-var-list,\n.xr-var-item {\n  display: contents;\n}\n\n.xr-var-item > div,\n.xr-var-item label,\n.xr-var-item > .xr-var-name span {\n  background-color: var(--xr-background-color-row-even);\n  margin-bottom: 0;\n}\n\n.xr-var-item > .xr-var-name:hover span {\n  padding-right: 5px;\n}\n\n.xr-var-list > li:nth-child(odd) > div,\n.xr-var-list > li:nth-child(odd) > label,\n.xr-var-list > li:nth-child(odd) > .xr-var-name span {\n  background-color: var(--xr-background-color-row-odd);\n}\n\n.xr-var-name {\n  grid-column: 1;\n}\n\n.xr-var-dims {\n  grid-column: 2;\n}\n\n.xr-var-dtype {\n  grid-column: 3;\n  text-align: right;\n  color: var(--xr-font-color2);\n}\n\n.xr-var-preview {\n  grid-column: 4;\n}\n\n.xr-var-name,\n.xr-var-dims,\n.xr-var-dtype,\n.xr-preview,\n.xr-attrs dt {\n  white-space: nowrap;\n  overflow: hidden;\n  text-overflow: ellipsis;\n  padding-right: 10px;\n}\n\n.xr-var-name:hover,\n.xr-var-dims:hover,\n.xr-var-dtype:hover,\n.xr-attrs dt:hover {\n  overflow: visible;\n  width: auto;\n  z-index: 1;\n}\n\n.xr-var-attrs,\n.xr-var-data {\n  display: none;\n  background-color: var(--xr-background-color) !important;\n  padding-bottom: 5px !important;\n}\n\n.xr-var-attrs-in:checked ~ .xr-var-attrs,\n.xr-var-data-in:checked ~ .xr-var-data {\n  display: block;\n}\n\n.xr-var-data > table {\n  float: right;\n}\n\n.xr-var-name span,\n.xr-var-data,\n.xr-attrs {\n  padding-left: 25px !important;\n}\n\n.xr-attrs,\n.xr-var-attrs,\n.xr-var-data {\n  grid-column: 1 / -1;\n}\n\ndl.xr-attrs {\n  padding: 0;\n  margin: 0;\n  display: grid;\n  grid-template-columns: 125px auto;\n}\n\n.xr-attrs dt,\n.xr-attrs dd {\n  padding: 0;\n  margin: 0;\n  float: left;\n  padding-right: 10px;\n  width: auto;\n}\n\n.xr-attrs dt {\n  font-weight: normal;\n  grid-column: 1;\n}\n\n.xr-attrs dt:hover span {\n  display: inline-block;\n  background: var(--xr-background-color);\n  padding-right: 10px;\n}\n\n.xr-attrs dd {\n  grid-column: 2;\n  white-space: pre-wrap;\n  word-break: break-all;\n}\n\n.xr-icon-database,\n.xr-icon-file-text2 {\n  display: inline-block;\n  vertical-align: middle;\n  width: 1em;\n  height: 1.5em !important;\n  stroke-width: 0;\n  stroke: currentColor;\n  fill: currentColor;\n}\n</style><pre class='xr-text-repr-fallback'>&lt;xarray.DataArray &#x27;precip&#x27; (time: 366, lat: 34, lon: 35)&gt;\ndask.array&lt;copy, shape=(366, 34, 35), dtype=float32, chunksize=(366, 34, 35), chunktype=numpy.ndarray&gt;\nCoordinates:\n  * lat          (lat) float64 6.5 7.5 8.5 9.5 10.5 ... 35.5 36.5 37.5 38.5 39.5\n  * lon          (lon) float64 65.5 66.5 67.5 68.5 69.5 ... 96.5 97.5 98.5 99.5\n  * time         (time) datetime64[ns] 2000-01-01 2000-01-02 ... 2000-12-31\n    spatial_ref  int64 0\nAttributes:\n    long_name:  gpcc full data daily product version 2020 precipitation per grid\n    units:      mm/day\n    code:       20</pre><div class='xr-wrap' hidden><div class='xr-header'><div class='xr-obj-type'>xarray.DataArray</div><div class='xr-array-name'>'precip'</div><ul class='xr-dim-list'><li><span class='xr-has-index'>time</span>: 366</li><li><span class='xr-has-index'>lat</span>: 34</li><li><span class='xr-has-index'>lon</span>: 35</li></ul></div><ul class='xr-sections'><li class='xr-section-item'><div class='xr-array-wrap'><input id='section-04b31a46-5aff-461a-b8b0-e2f5d6a74e00' class='xr-array-in' type='checkbox' checked><label for='section-04b31a46-5aff-461a-b8b0-e2f5d6a74e00' title='Show/hide data repr'><svg class='icon xr-icon-database'><use xlink:href='#icon-database'></use></svg></label><div class='xr-array-preview xr-preview'><span>dask.array&lt;chunksize=(366, 34, 35), meta=np.ndarray&gt;</span></div><div class='xr-array-data'><table>\n<tr>\n<td>\n<table>\n  <thead>\n    <tr><td> </td><th> Array </th><th> Chunk </th></tr>\n  </thead>\n  <tbody>\n    <tr><th> Bytes </th><td> 1.66 MiB </td> <td> 1.66 MiB </td></tr>\n    <tr><th> Shape </th><td> (366, 34, 35) </td> <td> (366, 34, 35) </td></tr>\n    <tr><th> Count </th><td> 7 Tasks </td><td> 1 Chunks </td></tr>\n    <tr><th> Type </th><td> float32 </td><td> numpy.ndarray </td></tr>\n  </tbody>\n</table>\n</td>\n<td>\n<svg width=\"168\" height=\"158\" style=\"stroke:rgb(0,0,0);stroke-width:1\" >\n\n  <!-- Horizontal lines -->\n  <line x1=\"10\" y1=\"0\" x2=\"80\" y2=\"70\" style=\"stroke-width:2\" />\n  <line x1=\"10\" y1=\"38\" x2=\"80\" y2=\"108\" style=\"stroke-width:2\" />\n\n  <!-- Vertical lines -->\n  <line x1=\"10\" y1=\"0\" x2=\"10\" y2=\"38\" style=\"stroke-width:2\" />\n  <line x1=\"80\" y1=\"70\" x2=\"80\" y2=\"108\" style=\"stroke-width:2\" />\n\n  <!-- Colored Rectangle -->\n  <polygon points=\"10.0,0.0 80.58823529411765,70.58823529411765 80.58823529411765,108.77281534050334 10.0,38.18458004638568\" style=\"fill:#ECB172A0;stroke-width:0\"/>\n\n  <!-- Horizontal lines -->\n  <line x1=\"10\" y1=\"0\" x2=\"48\" y2=\"0\" style=\"stroke-width:2\" />\n  <line x1=\"80\" y1=\"70\" x2=\"118\" y2=\"70\" style=\"stroke-width:2\" />\n\n  <!-- Vertical lines -->\n  <line x1=\"10\" y1=\"0\" x2=\"80\" y2=\"70\" style=\"stroke-width:2\" />\n  <line x1=\"48\" y1=\"0\" x2=\"118\" y2=\"70\" style=\"stroke-width:2\" />\n\n  <!-- Colored Rectangle -->\n  <polygon points=\"10.0,0.0 48.34767945474698,0.0 118.93591474886463,70.58823529411765 80.58823529411765,70.58823529411765\" style=\"fill:#ECB172A0;stroke-width:0\"/>\n\n  <!-- Horizontal lines -->\n  <line x1=\"80\" y1=\"70\" x2=\"118\" y2=\"70\" style=\"stroke-width:2\" />\n  <line x1=\"80\" y1=\"108\" x2=\"118\" y2=\"108\" style=\"stroke-width:2\" />\n\n  <!-- Vertical lines -->\n  <line x1=\"80\" y1=\"70\" x2=\"80\" y2=\"108\" style=\"stroke-width:2\" />\n  <line x1=\"118\" y1=\"70\" x2=\"118\" y2=\"108\" style=\"stroke-width:2\" />\n\n  <!-- Colored Rectangle -->\n  <polygon points=\"80.58823529411765,70.58823529411765 118.93591474886463,70.58823529411765 118.93591474886463,108.77281534050334 80.58823529411765,108.77281534050334\" style=\"fill:#ECB172A0;stroke-width:0\"/>\n\n  <!-- Text -->\n  <text x=\"99.762075\" y=\"128.772815\" font-size=\"1.0rem\" font-weight=\"100\" text-anchor=\"middle\" >35</text>\n  <text x=\"138.935915\" y=\"89.680525\" font-size=\"1.0rem\" font-weight=\"100\" text-anchor=\"middle\" transform=\"rotate(0,138.935915,89.680525)\">34</text>\n  <text x=\"35.294118\" y=\"93.478698\" font-size=\"1.0rem\" font-weight=\"100\" text-anchor=\"middle\" transform=\"rotate(45,35.294118,93.478698)\">366</text>\n</svg>\n</td>\n</tr>\n</table></div></div></li><li class='xr-section-item'><input id='section-495cb20c-48e7-49d8-b5d1-d014dd6581f9' class='xr-section-summary-in' type='checkbox'  checked><label for='section-495cb20c-48e7-49d8-b5d1-d014dd6581f9' class='xr-section-summary' >Coordinates: <span>(4)</span></label><div class='xr-section-inline-details'></div><div class='xr-section-details'><ul class='xr-var-list'><li class='xr-var-item'><div class='xr-var-name'><span class='xr-has-index'>lat</span></div><div class='xr-var-dims'>(lat)</div><div class='xr-var-dtype'>float64</div><div class='xr-var-preview xr-preview'>6.5 7.5 8.5 9.5 ... 37.5 38.5 39.5</div><input id='attrs-668df384-9244-4b3a-bc25-db647c371de3' class='xr-var-attrs-in' type='checkbox' ><label for='attrs-668df384-9244-4b3a-bc25-db647c371de3' title='Show/Hide attributes'><svg class='icon xr-icon-file-text2'><use xlink:href='#icon-file-text2'></use></svg></label><input id='data-54bdd3a3-685e-4bf5-9fd5-1e6abd8b3e9f' class='xr-var-data-in' type='checkbox'><label for='data-54bdd3a3-685e-4bf5-9fd5-1e6abd8b3e9f' title='Show/Hide data repr'><svg class='icon xr-icon-database'><use xlink:href='#icon-database'></use></svg></label><div class='xr-var-attrs'><dl class='xr-attrs'><dt><span>standard_name :</span></dt><dd>latitude</dd><dt><span>long_name :</span></dt><dd>latitude</dd><dt><span>units :</span></dt><dd>degrees_north</dd><dt><span>axis :</span></dt><dd>Y</dd></dl></div><div class='xr-var-data'><pre>array([ 6.5,  7.5,  8.5,  9.5, 10.5, 11.5, 12.5, 13.5, 14.5, 15.5, 16.5, 17.5,\n       18.5, 19.5, 20.5, 21.5, 22.5, 23.5, 24.5, 25.5, 26.5, 27.5, 28.5, 29.5,\n       30.5, 31.5, 32.5, 33.5, 34.5, 35.5, 36.5, 37.5, 38.5, 39.5])</pre></div></li><li class='xr-var-item'><div class='xr-var-name'><span class='xr-has-index'>lon</span></div><div class='xr-var-dims'>(lon)</div><div class='xr-var-dtype'>float64</div><div class='xr-var-preview xr-preview'>65.5 66.5 67.5 ... 97.5 98.5 99.5</div><input id='attrs-8e2c4dc1-eee8-4812-9736-c6b23a44f6e1' class='xr-var-attrs-in' type='checkbox' ><label for='attrs-8e2c4dc1-eee8-4812-9736-c6b23a44f6e1' title='Show/Hide attributes'><svg class='icon xr-icon-file-text2'><use xlink:href='#icon-file-text2'></use></svg></label><input id='data-b3729c6d-16f4-49ee-8616-106ef0f82145' class='xr-var-data-in' type='checkbox'><label for='data-b3729c6d-16f4-49ee-8616-106ef0f82145' title='Show/Hide data repr'><svg class='icon xr-icon-database'><use xlink:href='#icon-database'></use></svg></label><div class='xr-var-attrs'><dl class='xr-attrs'><dt><span>standard_name :</span></dt><dd>longitude</dd><dt><span>long_name :</span></dt><dd>longitude</dd><dt><span>units :</span></dt><dd>degrees_east</dd><dt><span>axis :</span></dt><dd>X</dd></dl></div><div class='xr-var-data'><pre>array([65.5, 66.5, 67.5, 68.5, 69.5, 70.5, 71.5, 72.5, 73.5, 74.5, 75.5, 76.5,\n       77.5, 78.5, 79.5, 80.5, 81.5, 82.5, 83.5, 84.5, 85.5, 86.5, 87.5, 88.5,\n       89.5, 90.5, 91.5, 92.5, 93.5, 94.5, 95.5, 96.5, 97.5, 98.5, 99.5])</pre></div></li><li class='xr-var-item'><div class='xr-var-name'><span class='xr-has-index'>time</span></div><div class='xr-var-dims'>(time)</div><div class='xr-var-dtype'>datetime64[ns]</div><div class='xr-var-preview xr-preview'>2000-01-01 ... 2000-12-31</div><input id='attrs-42117b8a-f997-42fd-a121-dce926cc1bcc' class='xr-var-attrs-in' type='checkbox' ><label for='attrs-42117b8a-f997-42fd-a121-dce926cc1bcc' title='Show/Hide attributes'><svg class='icon xr-icon-file-text2'><use xlink:href='#icon-file-text2'></use></svg></label><input id='data-26839950-7d9d-4145-9cde-d439ff74324e' class='xr-var-data-in' type='checkbox'><label for='data-26839950-7d9d-4145-9cde-d439ff74324e' title='Show/Hide data repr'><svg class='icon xr-icon-database'><use xlink:href='#icon-database'></use></svg></label><div class='xr-var-attrs'><dl class='xr-attrs'><dt><span>standard_name :</span></dt><dd>time</dd><dt><span>axis :</span></dt><dd>T</dd></dl></div><div class='xr-var-data'><pre>array([&#x27;2000-01-01T00:00:00.000000000&#x27;, &#x27;2000-01-02T00:00:00.000000000&#x27;,\n       &#x27;2000-01-03T00:00:00.000000000&#x27;, ..., &#x27;2000-12-29T00:00:00.000000000&#x27;,\n       &#x27;2000-12-30T00:00:00.000000000&#x27;, &#x27;2000-12-31T00:00:00.000000000&#x27;],\n      dtype=&#x27;datetime64[ns]&#x27;)</pre></div></li><li class='xr-var-item'><div class='xr-var-name'><span>spatial_ref</span></div><div class='xr-var-dims'>()</div><div class='xr-var-dtype'>int64</div><div class='xr-var-preview xr-preview'>0</div><input id='attrs-f6370910-1571-4c6a-8454-1e4a40e85daf' class='xr-var-attrs-in' type='checkbox' ><label for='attrs-f6370910-1571-4c6a-8454-1e4a40e85daf' title='Show/Hide attributes'><svg class='icon xr-icon-file-text2'><use xlink:href='#icon-file-text2'></use></svg></label><input id='data-5f1a342e-80e9-4784-a5ec-89166825a649' class='xr-var-data-in' type='checkbox'><label for='data-5f1a342e-80e9-4784-a5ec-89166825a649' title='Show/Hide data repr'><svg class='icon xr-icon-database'><use xlink:href='#icon-database'></use></svg></label><div class='xr-var-attrs'><dl class='xr-attrs'><dt><span>crs_wkt :</span></dt><dd>GEOGCS[&quot;WGS 84&quot;,DATUM[&quot;WGS_1984&quot;,SPHEROID[&quot;WGS 84&quot;,6378137,298.257223563,AUTHORITY[&quot;EPSG&quot;,&quot;7030&quot;]],AUTHORITY[&quot;EPSG&quot;,&quot;6326&quot;]],PRIMEM[&quot;Greenwich&quot;,0,AUTHORITY[&quot;EPSG&quot;,&quot;8901&quot;]],UNIT[&quot;degree&quot;,0.0174532925199433,AUTHORITY[&quot;EPSG&quot;,&quot;9122&quot;]],AXIS[&quot;Latitude&quot;,NORTH],AXIS[&quot;Longitude&quot;,EAST],AUTHORITY[&quot;EPSG&quot;,&quot;4326&quot;]]</dd><dt><span>semi_major_axis :</span></dt><dd>6378137.0</dd><dt><span>semi_minor_axis :</span></dt><dd>6356752.314245179</dd><dt><span>inverse_flattening :</span></dt><dd>298.257223563</dd><dt><span>reference_ellipsoid_name :</span></dt><dd>WGS 84</dd><dt><span>longitude_of_prime_meridian :</span></dt><dd>0.0</dd><dt><span>prime_meridian_name :</span></dt><dd>Greenwich</dd><dt><span>geographic_crs_name :</span></dt><dd>WGS 84</dd><dt><span>grid_mapping_name :</span></dt><dd>latitude_longitude</dd><dt><span>spatial_ref :</span></dt><dd>GEOGCS[&quot;WGS 84&quot;,DATUM[&quot;WGS_1984&quot;,SPHEROID[&quot;WGS 84&quot;,6378137,298.257223563,AUTHORITY[&quot;EPSG&quot;,&quot;7030&quot;]],AUTHORITY[&quot;EPSG&quot;,&quot;6326&quot;]],PRIMEM[&quot;Greenwich&quot;,0,AUTHORITY[&quot;EPSG&quot;,&quot;8901&quot;]],UNIT[&quot;degree&quot;,0.0174532925199433,AUTHORITY[&quot;EPSG&quot;,&quot;9122&quot;]],AXIS[&quot;Latitude&quot;,NORTH],AXIS[&quot;Longitude&quot;,EAST],AUTHORITY[&quot;EPSG&quot;,&quot;4326&quot;]]</dd><dt><span>GeoTransform :</span></dt><dd>65.0 1.0 0.0 6.0 0.0 1.0</dd></dl></div><div class='xr-var-data'><pre>array(0)</pre></div></li></ul></div></li><li class='xr-section-item'><input id='section-e91f018f-e553-4445-a696-063eb90b8d17' class='xr-section-summary-in' type='checkbox'  checked><label for='section-e91f018f-e553-4445-a696-063eb90b8d17' class='xr-section-summary' >Attributes: <span>(3)</span></label><div class='xr-section-inline-details'></div><div class='xr-section-details'><dl class='xr-attrs'><dt><span>long_name :</span></dt><dd>gpcc full data daily product version 2020 precipitation per grid</dd><dt><span>units :</span></dt><dd>mm/day</dd><dt><span>code :</span></dt><dd>20</dd></dl></div></li></ul></div></div>"
     },
     "metadata": {},
     "execution_count": 9
    }
   ],
   "source": [
    "clipped = ds.rio.clip(sf.geometry.apply(mapping), sf.crs)\n",
    "clipped"
   ]
  },
  {
   "cell_type": "code",
   "execution_count": 20,
   "metadata": {},
   "outputs": [],
   "source": [
    "# ShapeMask = rasterio.features.geometry_mask(sf.iloc[0],out_shape=(len(ds.lat), len(ds.lon)), invert=True)\n",
    "# ShapeMask = xr.DataArray(ShapeMask , dims=(\"lat\", \"lon\"))\n",
    "\n",
    "x,y = centroids(ds)"
   ]
  },
  {
   "cell_type": "code",
   "execution_count": 21,
   "metadata": {},
   "outputs": [],
   "source": [
    "def make_figure():\n",
    "    fig = plt.figure(figsize=(10, 5))\n",
    "    ax = fig.add_subplot(1, 1, 1, projection=ccrs.PlateCarree())\n",
    "    plt.ylim(5,45)\n",
    "    plt.xlim(65,100)\n",
    "    # generate a basemap with country borders, oceans and coastlines\n",
    "    ax.add_feature(cfeat.LAND)\n",
    "    ax.add_feature(cfeat.OCEAN)\n",
    "    ax.add_feature(cfeat.COASTLINE)\n",
    "    # ax.add_feature(cfeat.BORDERS, linestyle='dotted')\n",
    "    return fig, ax"
   ]
  },
  {
   "cell_type": "code",
   "execution_count": 22,
   "metadata": {},
   "outputs": [
    {
     "output_type": "error",
     "ename": "NameError",
     "evalue": "name 'plt' is not defined",
     "traceback": [
      "\u001b[0;31m---------------------------------------------------------------------------\u001b[0m",
      "\u001b[0;31mNameError\u001b[0m                                 Traceback (most recent call last)",
      "\u001b[0;32m<ipython-input-22-c4102cf3bc64>\u001b[0m in \u001b[0;36m<module>\u001b[0;34m\u001b[0m\n\u001b[1;32m      1\u001b[0m \u001b[0;32mfor\u001b[0m \u001b[0mi\u001b[0m \u001b[0;32min\u001b[0m \u001b[0mrange\u001b[0m\u001b[0;34m(\u001b[0m\u001b[0;36m0\u001b[0m\u001b[0;34m,\u001b[0m\u001b[0mlen\u001b[0m\u001b[0;34m(\u001b[0m\u001b[0mx\u001b[0m\u001b[0;34m)\u001b[0m\u001b[0;34m,\u001b[0m\u001b[0;36m30\u001b[0m\u001b[0;34m)\u001b[0m\u001b[0;34m:\u001b[0m\u001b[0;34m\u001b[0m\u001b[0;34m\u001b[0m\u001b[0m\n\u001b[0;32m----> 2\u001b[0;31m     \u001b[0m_\u001b[0m\u001b[0;34m,\u001b[0m \u001b[0max\u001b[0m \u001b[0;34m=\u001b[0m \u001b[0mmake_figure\u001b[0m\u001b[0;34m(\u001b[0m\u001b[0;34m)\u001b[0m\u001b[0;34m\u001b[0m\u001b[0;34m\u001b[0m\u001b[0m\n\u001b[0m\u001b[1;32m      3\u001b[0m     \u001b[0mplt\u001b[0m\u001b[0;34m.\u001b[0m\u001b[0mscatter\u001b[0m\u001b[0;34m(\u001b[0m\u001b[0mx\u001b[0m\u001b[0;34m[\u001b[0m\u001b[0mi\u001b[0m\u001b[0;34m]\u001b[0m\u001b[0;34m,\u001b[0m\u001b[0my\u001b[0m\u001b[0;34m[\u001b[0m\u001b[0mi\u001b[0m\u001b[0;34m]\u001b[0m\u001b[0;34m)\u001b[0m\u001b[0;34m\u001b[0m\u001b[0;34m\u001b[0m\u001b[0m\n\u001b[1;32m      4\u001b[0m     \u001b[0mplt\u001b[0m\u001b[0;34m.\u001b[0m\u001b[0mtitle\u001b[0m\u001b[0;34m(\u001b[0m\u001b[0;34m\"Day:\"\u001b[0m \u001b[0;34m+\u001b[0m \u001b[0mstr\u001b[0m\u001b[0;34m(\u001b[0m\u001b[0mi\u001b[0m\u001b[0;34m+\u001b[0m\u001b[0;36m1\u001b[0m\u001b[0;34m)\u001b[0m\u001b[0;34m)\u001b[0m\u001b[0;34m\u001b[0m\u001b[0;34m\u001b[0m\u001b[0m\n\u001b[1;32m      5\u001b[0m     \u001b[0mplt\u001b[0m\u001b[0;34m.\u001b[0m\u001b[0mshow\u001b[0m\u001b[0;34m(\u001b[0m\u001b[0;34m)\u001b[0m\u001b[0;34m\u001b[0m\u001b[0;34m\u001b[0m\u001b[0m\n",
      "\u001b[0;32m<ipython-input-21-4eeef15a6240>\u001b[0m in \u001b[0;36mmake_figure\u001b[0;34m()\u001b[0m\n\u001b[1;32m      1\u001b[0m \u001b[0;32mdef\u001b[0m \u001b[0mmake_figure\u001b[0m\u001b[0;34m(\u001b[0m\u001b[0;34m)\u001b[0m\u001b[0;34m:\u001b[0m\u001b[0;34m\u001b[0m\u001b[0;34m\u001b[0m\u001b[0m\n\u001b[0;32m----> 2\u001b[0;31m     \u001b[0mfig\u001b[0m \u001b[0;34m=\u001b[0m \u001b[0mplt\u001b[0m\u001b[0;34m.\u001b[0m\u001b[0mfigure\u001b[0m\u001b[0;34m(\u001b[0m\u001b[0mfigsize\u001b[0m\u001b[0;34m=\u001b[0m\u001b[0;34m(\u001b[0m\u001b[0;36m10\u001b[0m\u001b[0;34m,\u001b[0m \u001b[0;36m5\u001b[0m\u001b[0;34m)\u001b[0m\u001b[0;34m)\u001b[0m\u001b[0;34m\u001b[0m\u001b[0;34m\u001b[0m\u001b[0m\n\u001b[0m\u001b[1;32m      3\u001b[0m     \u001b[0max\u001b[0m \u001b[0;34m=\u001b[0m \u001b[0mfig\u001b[0m\u001b[0;34m.\u001b[0m\u001b[0madd_subplot\u001b[0m\u001b[0;34m(\u001b[0m\u001b[0;36m1\u001b[0m\u001b[0;34m,\u001b[0m \u001b[0;36m1\u001b[0m\u001b[0;34m,\u001b[0m \u001b[0;36m1\u001b[0m\u001b[0;34m,\u001b[0m \u001b[0mprojection\u001b[0m\u001b[0;34m=\u001b[0m\u001b[0mccrs\u001b[0m\u001b[0;34m.\u001b[0m\u001b[0mPlateCarree\u001b[0m\u001b[0;34m(\u001b[0m\u001b[0;34m)\u001b[0m\u001b[0;34m)\u001b[0m\u001b[0;34m\u001b[0m\u001b[0;34m\u001b[0m\u001b[0m\n\u001b[1;32m      4\u001b[0m     \u001b[0mplt\u001b[0m\u001b[0;34m.\u001b[0m\u001b[0mylim\u001b[0m\u001b[0;34m(\u001b[0m\u001b[0;36m5\u001b[0m\u001b[0;34m,\u001b[0m\u001b[0;36m45\u001b[0m\u001b[0;34m)\u001b[0m\u001b[0;34m\u001b[0m\u001b[0;34m\u001b[0m\u001b[0m\n\u001b[1;32m      5\u001b[0m     \u001b[0mplt\u001b[0m\u001b[0;34m.\u001b[0m\u001b[0mxlim\u001b[0m\u001b[0;34m(\u001b[0m\u001b[0;36m65\u001b[0m\u001b[0;34m,\u001b[0m\u001b[0;36m100\u001b[0m\u001b[0;34m)\u001b[0m\u001b[0;34m\u001b[0m\u001b[0;34m\u001b[0m\u001b[0m\n",
      "\u001b[0;31mNameError\u001b[0m: name 'plt' is not defined"
     ]
    }
   ],
   "source": [
    "for i in range(0,len(x),30):\n",
    "    _, ax = make_figure()\n",
    "    plt.scatter(x[i],y[i])\n",
    "    plt.title(\"Day:\" + str(i+1))\n",
    "    plt.show()"
   ]
  },
  {
   "cell_type": "code",
   "execution_count": 16,
   "metadata": {},
   "outputs": [],
   "source": [
    "fig, ax = make_figure()\n",
    "\n",
    "frames = len(x)\n",
    "\n",
    "def draw(frame):\n",
    "    plot = ax.scatter(x[frame],y[frame])\n",
    "    ax.set_title(\"Day:\" + str(frame+1))\n",
    "    return plot\n",
    "\n",
    "\n",
    "def init():\n",
    "    return draw(0)\n",
    "\n",
    "\n",
    "def animate(frame):\n",
    "    return draw(frame)\n",
    "\n",
    "\n",
    "ani = animation.FuncAnimation(fig, animate, frames, interval=0.01, blit=False,init_func=init, repeat=False)\n",
    "plt.close(fig)"
   ]
  },
  {
   "cell_type": "code",
   "execution_count": 17,
   "metadata": {},
   "outputs": [
    {
     "output_type": "stream",
     "name": "stderr",
     "text": [
      "/home/rghoshal/anaconda3/lib/python3.7/site-packages/dask/compatibility.py:93: RuntimeWarning: All-NaN slice encountered\n  return func(*args, **kwargs)\n/home/rghoshal/anaconda3/lib/python3.7/site-packages/toolz/functoolz.py:468: RuntimeWarning: All-NaN slice encountered\n  ret = f(ret)\n"
     ]
    }
   ],
   "source": [
    "ani.save('precip.mp4', writer=animation.FFMpegWriter(fps=5))"
   ]
  },
  {
   "cell_type": "code",
   "execution_count": 5,
   "metadata": {},
   "outputs": [
    {
     "output_type": "execute_result",
     "data": {
      "text/plain": [
       "                                                     geometry   NEXT_DOWN  \\\n",
       "HYBAS_ID                                                                    \n",
       "4040017030  MULTIPOLYGON (((99.98832 13.47982, 99.98688 13...           0   \n",
       "4040018350  MULTIPOLYGON (((99.80326 6.16697, 99.80401 6.1...           0   \n",
       "4040022790  MULTIPOLYGON (((97.73742 15.17351, 97.73194 15...           0   \n",
       "4040023050  POLYGON ((98.64167 15.64167, 98.64252 15.63835...           0   \n",
       "4040023060  POLYGON ((100.00000 23.69583, 99.99943 23.7063...           0   \n",
       "...                                                       ...         ...   \n",
       "4041043580  MULTIPOLYGON (((99.99779 18.90473, 99.98554 18...  4041108500   \n",
       "4049000420  POLYGON ((100.00000 36.65525, 99.99843 36.6564...  4040578640   \n",
       "4049000880  POLYGON ((90.89126 30.85515, 90.89520 30.85196...           0   \n",
       "4049001000  POLYGON ((88.59911 31.81265, 88.58750 31.81250...           0   \n",
       "4049001800  POLYGON ((85.77562 30.73540, 85.77481 30.73599...           0   \n",
       "\n",
       "             NEXT_SINK    MAIN_BAS  DIST_SINK  DIST_MAIN  SUB_AREA   UP_AREA  \\\n",
       "HYBAS_ID                                                                       \n",
       "4040017030  4040017030  4040017030        0.0        0.0  235496.1  235496.1   \n",
       "4040018350  4040018350  4040018350        0.0        0.0  292240.9  292240.9   \n",
       "4040022790  4040022790  4040022790        0.0        0.0   10642.3   10642.3   \n",
       "4040023050  4040023050  4040023050        0.0        0.0    9409.8    9410.0   \n",
       "4040023060  4040023060  4040023060        0.0        0.0  266292.4  266292.4   \n",
       "...                ...         ...        ...        ...       ...       ...   \n",
       "4041043580  4040017020  4040017020     2136.1     2136.1  231768.3  231768.3   \n",
       "4049000420  4049000420  4040007850        0.0     3464.0    4454.0   29604.7   \n",
       "4049000880  4049000880  4049000880        0.0        0.0    1939.3   10741.3   \n",
       "4049001000  4049001000  4049001000        0.0        0.0    1644.4   29077.1   \n",
       "4049001800  4049001800  4049001800        0.0        0.0    1005.5   20080.1   \n",
       "\n",
       "            PFAF_ID SIDE  LAKE  ENDO  COAST  ORDER  SORT  \n",
       "HYBAS_ID                                                  \n",
       "4040017030     4430    M     0     0      1      0    76  \n",
       "4040018350     4440    M     0     0      1      0    77  \n",
       "4040022790     4451    M     0     0      1      0    79  \n",
       "4040023050     4452    M     0     0      0      1    80  \n",
       "4040023060     4454    M     0     0      0      1    81  \n",
       "...             ...  ...   ...   ...    ...    ...   ...  \n",
       "4041043580     4429    M     0     0      0      1    74  \n",
       "4049000420     4328    M     1     2      0      3   189  \n",
       "4049000880     4916    M     1     2      0      1   208  \n",
       "4049001000     4915    M     1     2      0      1   190  \n",
       "4049001800     4914    M     1     2      0      1   198  \n",
       "\n",
       "[86 rows x 15 columns]"
      ],
      "text/html": "<div>\n<style scoped>\n    .dataframe tbody tr th:only-of-type {\n        vertical-align: middle;\n    }\n\n    .dataframe tbody tr th {\n        vertical-align: top;\n    }\n\n    .dataframe thead th {\n        text-align: right;\n    }\n</style>\n<table border=\"1\" class=\"dataframe\">\n  <thead>\n    <tr style=\"text-align: right;\">\n      <th></th>\n      <th>geometry</th>\n      <th>NEXT_DOWN</th>\n      <th>NEXT_SINK</th>\n      <th>MAIN_BAS</th>\n      <th>DIST_SINK</th>\n      <th>DIST_MAIN</th>\n      <th>SUB_AREA</th>\n      <th>UP_AREA</th>\n      <th>PFAF_ID</th>\n      <th>SIDE</th>\n      <th>LAKE</th>\n      <th>ENDO</th>\n      <th>COAST</th>\n      <th>ORDER</th>\n      <th>SORT</th>\n    </tr>\n    <tr>\n      <th>HYBAS_ID</th>\n      <th></th>\n      <th></th>\n      <th></th>\n      <th></th>\n      <th></th>\n      <th></th>\n      <th></th>\n      <th></th>\n      <th></th>\n      <th></th>\n      <th></th>\n      <th></th>\n      <th></th>\n      <th></th>\n      <th></th>\n    </tr>\n  </thead>\n  <tbody>\n    <tr>\n      <th>4040017030</th>\n      <td>MULTIPOLYGON (((99.98832 13.47982, 99.98688 13...</td>\n      <td>0</td>\n      <td>4040017030</td>\n      <td>4040017030</td>\n      <td>0.0</td>\n      <td>0.0</td>\n      <td>235496.1</td>\n      <td>235496.1</td>\n      <td>4430</td>\n      <td>M</td>\n      <td>0</td>\n      <td>0</td>\n      <td>1</td>\n      <td>0</td>\n      <td>76</td>\n    </tr>\n    <tr>\n      <th>4040018350</th>\n      <td>MULTIPOLYGON (((99.80326 6.16697, 99.80401 6.1...</td>\n      <td>0</td>\n      <td>4040018350</td>\n      <td>4040018350</td>\n      <td>0.0</td>\n      <td>0.0</td>\n      <td>292240.9</td>\n      <td>292240.9</td>\n      <td>4440</td>\n      <td>M</td>\n      <td>0</td>\n      <td>0</td>\n      <td>1</td>\n      <td>0</td>\n      <td>77</td>\n    </tr>\n    <tr>\n      <th>4040022790</th>\n      <td>MULTIPOLYGON (((97.73742 15.17351, 97.73194 15...</td>\n      <td>0</td>\n      <td>4040022790</td>\n      <td>4040022790</td>\n      <td>0.0</td>\n      <td>0.0</td>\n      <td>10642.3</td>\n      <td>10642.3</td>\n      <td>4451</td>\n      <td>M</td>\n      <td>0</td>\n      <td>0</td>\n      <td>1</td>\n      <td>0</td>\n      <td>79</td>\n    </tr>\n    <tr>\n      <th>4040023050</th>\n      <td>POLYGON ((98.64167 15.64167, 98.64252 15.63835...</td>\n      <td>0</td>\n      <td>4040023050</td>\n      <td>4040023050</td>\n      <td>0.0</td>\n      <td>0.0</td>\n      <td>9409.8</td>\n      <td>9410.0</td>\n      <td>4452</td>\n      <td>M</td>\n      <td>0</td>\n      <td>0</td>\n      <td>0</td>\n      <td>1</td>\n      <td>80</td>\n    </tr>\n    <tr>\n      <th>4040023060</th>\n      <td>POLYGON ((100.00000 23.69583, 99.99943 23.7063...</td>\n      <td>0</td>\n      <td>4040023060</td>\n      <td>4040023060</td>\n      <td>0.0</td>\n      <td>0.0</td>\n      <td>266292.4</td>\n      <td>266292.4</td>\n      <td>4454</td>\n      <td>M</td>\n      <td>0</td>\n      <td>0</td>\n      <td>0</td>\n      <td>1</td>\n      <td>81</td>\n    </tr>\n    <tr>\n      <th>...</th>\n      <td>...</td>\n      <td>...</td>\n      <td>...</td>\n      <td>...</td>\n      <td>...</td>\n      <td>...</td>\n      <td>...</td>\n      <td>...</td>\n      <td>...</td>\n      <td>...</td>\n      <td>...</td>\n      <td>...</td>\n      <td>...</td>\n      <td>...</td>\n      <td>...</td>\n    </tr>\n    <tr>\n      <th>4041043580</th>\n      <td>MULTIPOLYGON (((99.99779 18.90473, 99.98554 18...</td>\n      <td>4041108500</td>\n      <td>4040017020</td>\n      <td>4040017020</td>\n      <td>2136.1</td>\n      <td>2136.1</td>\n      <td>231768.3</td>\n      <td>231768.3</td>\n      <td>4429</td>\n      <td>M</td>\n      <td>0</td>\n      <td>0</td>\n      <td>0</td>\n      <td>1</td>\n      <td>74</td>\n    </tr>\n    <tr>\n      <th>4049000420</th>\n      <td>POLYGON ((100.00000 36.65525, 99.99843 36.6564...</td>\n      <td>4040578640</td>\n      <td>4049000420</td>\n      <td>4040007850</td>\n      <td>0.0</td>\n      <td>3464.0</td>\n      <td>4454.0</td>\n      <td>29604.7</td>\n      <td>4328</td>\n      <td>M</td>\n      <td>1</td>\n      <td>2</td>\n      <td>0</td>\n      <td>3</td>\n      <td>189</td>\n    </tr>\n    <tr>\n      <th>4049000880</th>\n      <td>POLYGON ((90.89126 30.85515, 90.89520 30.85196...</td>\n      <td>0</td>\n      <td>4049000880</td>\n      <td>4049000880</td>\n      <td>0.0</td>\n      <td>0.0</td>\n      <td>1939.3</td>\n      <td>10741.3</td>\n      <td>4916</td>\n      <td>M</td>\n      <td>1</td>\n      <td>2</td>\n      <td>0</td>\n      <td>1</td>\n      <td>208</td>\n    </tr>\n    <tr>\n      <th>4049001000</th>\n      <td>POLYGON ((88.59911 31.81265, 88.58750 31.81250...</td>\n      <td>0</td>\n      <td>4049001000</td>\n      <td>4049001000</td>\n      <td>0.0</td>\n      <td>0.0</td>\n      <td>1644.4</td>\n      <td>29077.1</td>\n      <td>4915</td>\n      <td>M</td>\n      <td>1</td>\n      <td>2</td>\n      <td>0</td>\n      <td>1</td>\n      <td>190</td>\n    </tr>\n    <tr>\n      <th>4049001800</th>\n      <td>POLYGON ((85.77562 30.73540, 85.77481 30.73599...</td>\n      <td>0</td>\n      <td>4049001800</td>\n      <td>4049001800</td>\n      <td>0.0</td>\n      <td>0.0</td>\n      <td>1005.5</td>\n      <td>20080.1</td>\n      <td>4914</td>\n      <td>M</td>\n      <td>1</td>\n      <td>2</td>\n      <td>0</td>\n      <td>1</td>\n      <td>198</td>\n    </tr>\n  </tbody>\n</table>\n<p>86 rows × 15 columns</p>\n</div>"
     },
     "metadata": {},
     "execution_count": 5
    }
   ],
   "source": [
    "sf.dissolve(by=\"HYBAS_ID\")"
   ]
  },
  {
   "cell_type": "code",
   "execution_count": null,
   "metadata": {},
   "outputs": [],
   "source": []
  }
 ],
 "metadata": {
  "kernelspec": {
   "name": "python3810jvsc74a57bd0105b9171058b10bd7128b9d79a724cb77eb2950387ee726d523a87c529b6c476",
   "display_name": "Python 3.8.10 64-bit ('ugp': conda)"
  },
  "language_info": {
   "codemirror_mode": {
    "name": "ipython",
    "version": 3
   },
   "file_extension": ".py",
   "mimetype": "text/x-python",
   "name": "python",
   "nbconvert_exporter": "python",
   "pygments_lexer": "ipython3",
   "version": "3.8.10"
  },
  "metadata": {
   "interpreter": {
    "hash": "105b9171058b10bd7128b9d79a724cb77eb2950387ee726d523a87c529b6c476"
   }
  }
 },
 "nbformat": 4,
 "nbformat_minor": 2
}